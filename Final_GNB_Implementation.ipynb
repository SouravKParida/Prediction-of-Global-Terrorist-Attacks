{
 "cells": [
  {
   "cell_type": "markdown",
   "id": "660fd9b0",
   "metadata": {},
   "source": [
    "# Gaussian Naive Bayes Classifier"
   ]
  },
  {
   "cell_type": "markdown",
   "id": "ae204b35",
   "metadata": {},
   "source": [
    "# Importing all required libraries"
   ]
  },
  {
   "cell_type": "code",
   "execution_count": 1,
   "id": "95f06909",
   "metadata": {},
   "outputs": [
    {
     "data": {
      "text/html": [
       "        <script type=\"text/javascript\">\n",
       "        window.PlotlyConfig = {MathJaxConfig: 'local'};\n",
       "        if (window.MathJax && window.MathJax.Hub && window.MathJax.Hub.Config) {window.MathJax.Hub.Config({SVG: {font: \"STIX-Web\"}});}\n",
       "        if (typeof require !== 'undefined') {\n",
       "        require.undef(\"plotly\");\n",
       "        requirejs.config({\n",
       "            paths: {\n",
       "                'plotly': ['https://cdn.plot.ly/plotly-2.16.1.min']\n",
       "            }\n",
       "        });\n",
       "        require(['plotly'], function(Plotly) {\n",
       "            window._Plotly = Plotly;\n",
       "        });\n",
       "        }\n",
       "        </script>\n",
       "        "
      ]
     },
     "metadata": {},
     "output_type": "display_data"
    },
    {
     "name": "stdout",
     "output_type": "stream",
     "text": [
      "Dataframe dimensions: (181691, 135)\n"
     ]
    },
    {
     "data": {
      "text/html": [
       "<div>\n",
       "<style scoped>\n",
       "    .dataframe tbody tr th:only-of-type {\n",
       "        vertical-align: middle;\n",
       "    }\n",
       "\n",
       "    .dataframe tbody tr th {\n",
       "        vertical-align: top;\n",
       "    }\n",
       "\n",
       "    .dataframe thead th {\n",
       "        text-align: right;\n",
       "    }\n",
       "</style>\n",
       "<table border=\"1\" class=\"dataframe\">\n",
       "  <thead>\n",
       "    <tr style=\"text-align: right;\">\n",
       "      <th></th>\n",
       "      <th>eventid</th>\n",
       "      <th>iyear</th>\n",
       "      <th>imonth</th>\n",
       "      <th>iday</th>\n",
       "      <th>approxdate</th>\n",
       "      <th>extended</th>\n",
       "      <th>resolution</th>\n",
       "      <th>country</th>\n",
       "      <th>country_txt</th>\n",
       "      <th>region</th>\n",
       "      <th>...</th>\n",
       "      <th>addnotes</th>\n",
       "      <th>scite1</th>\n",
       "      <th>scite2</th>\n",
       "      <th>scite3</th>\n",
       "      <th>dbsource</th>\n",
       "      <th>INT_LOG</th>\n",
       "      <th>INT_IDEO</th>\n",
       "      <th>INT_MISC</th>\n",
       "      <th>INT_ANY</th>\n",
       "      <th>related</th>\n",
       "    </tr>\n",
       "  </thead>\n",
       "  <tbody>\n",
       "    <tr>\n",
       "      <th>column type</th>\n",
       "      <td>int64</td>\n",
       "      <td>int64</td>\n",
       "      <td>int64</td>\n",
       "      <td>int64</td>\n",
       "      <td>object</td>\n",
       "      <td>int64</td>\n",
       "      <td>object</td>\n",
       "      <td>int64</td>\n",
       "      <td>object</td>\n",
       "      <td>int64</td>\n",
       "      <td>...</td>\n",
       "      <td>object</td>\n",
       "      <td>object</td>\n",
       "      <td>object</td>\n",
       "      <td>object</td>\n",
       "      <td>object</td>\n",
       "      <td>int64</td>\n",
       "      <td>int64</td>\n",
       "      <td>int64</td>\n",
       "      <td>int64</td>\n",
       "      <td>object</td>\n",
       "    </tr>\n",
       "    <tr>\n",
       "      <th>null values (nb)</th>\n",
       "      <td>0</td>\n",
       "      <td>0</td>\n",
       "      <td>0</td>\n",
       "      <td>0</td>\n",
       "      <td>172452</td>\n",
       "      <td>0</td>\n",
       "      <td>179471</td>\n",
       "      <td>0</td>\n",
       "      <td>0</td>\n",
       "      <td>0</td>\n",
       "      <td>...</td>\n",
       "      <td>153402</td>\n",
       "      <td>66191</td>\n",
       "      <td>104758</td>\n",
       "      <td>138175</td>\n",
       "      <td>0</td>\n",
       "      <td>0</td>\n",
       "      <td>0</td>\n",
       "      <td>0</td>\n",
       "      <td>0</td>\n",
       "      <td>156653</td>\n",
       "    </tr>\n",
       "    <tr>\n",
       "      <th>null values (%)</th>\n",
       "      <td>0.0</td>\n",
       "      <td>0.0</td>\n",
       "      <td>0.0</td>\n",
       "      <td>0.0</td>\n",
       "      <td>94.914993</td>\n",
       "      <td>0.0</td>\n",
       "      <td>98.778145</td>\n",
       "      <td>0.0</td>\n",
       "      <td>0.0</td>\n",
       "      <td>0.0</td>\n",
       "      <td>...</td>\n",
       "      <td>84.430159</td>\n",
       "      <td>36.430533</td>\n",
       "      <td>57.657231</td>\n",
       "      <td>76.049447</td>\n",
       "      <td>0.0</td>\n",
       "      <td>0.0</td>\n",
       "      <td>0.0</td>\n",
       "      <td>0.0</td>\n",
       "      <td>0.0</td>\n",
       "      <td>86.219461</td>\n",
       "    </tr>\n",
       "  </tbody>\n",
       "</table>\n",
       "<p>3 rows × 135 columns</p>\n",
       "</div>"
      ],
      "text/plain": [
       "                 eventid  iyear imonth   iday approxdate extended resolution  \\\n",
       "column type        int64  int64  int64  int64     object    int64     object   \n",
       "null values (nb)       0      0      0      0     172452        0     179471   \n",
       "null values (%)      0.0    0.0    0.0    0.0  94.914993      0.0  98.778145   \n",
       "\n",
       "                 country country_txt region  ...   addnotes     scite1  \\\n",
       "column type        int64      object  int64  ...     object     object   \n",
       "null values (nb)       0           0      0  ...     153402      66191   \n",
       "null values (%)      0.0         0.0    0.0  ...  84.430159  36.430533   \n",
       "\n",
       "                     scite2     scite3 dbsource INT_LOG INT_IDEO INT_MISC  \\\n",
       "column type          object     object   object   int64    int64    int64   \n",
       "null values (nb)     104758     138175        0       0        0        0   \n",
       "null values (%)   57.657231  76.049447      0.0     0.0      0.0      0.0   \n",
       "\n",
       "                 INT_ANY    related  \n",
       "column type        int64     object  \n",
       "null values (nb)       0     156653  \n",
       "null values (%)      0.0  86.219461  \n",
       "\n",
       "[3 rows x 135 columns]"
      ]
     },
     "metadata": {},
     "output_type": "display_data"
    },
    {
     "data": {
      "text/html": [
       "<div>\n",
       "<style scoped>\n",
       "    .dataframe tbody tr th:only-of-type {\n",
       "        vertical-align: middle;\n",
       "    }\n",
       "\n",
       "    .dataframe tbody tr th {\n",
       "        vertical-align: top;\n",
       "    }\n",
       "\n",
       "    .dataframe thead th {\n",
       "        text-align: right;\n",
       "    }\n",
       "</style>\n",
       "<table border=\"1\" class=\"dataframe\">\n",
       "  <thead>\n",
       "    <tr style=\"text-align: right;\">\n",
       "      <th></th>\n",
       "      <th>eventid</th>\n",
       "      <th>iyear</th>\n",
       "      <th>imonth</th>\n",
       "      <th>iday</th>\n",
       "      <th>approxdate</th>\n",
       "      <th>extended</th>\n",
       "      <th>resolution</th>\n",
       "      <th>country</th>\n",
       "      <th>country_txt</th>\n",
       "      <th>region</th>\n",
       "      <th>...</th>\n",
       "      <th>addnotes</th>\n",
       "      <th>scite1</th>\n",
       "      <th>scite2</th>\n",
       "      <th>scite3</th>\n",
       "      <th>dbsource</th>\n",
       "      <th>INT_LOG</th>\n",
       "      <th>INT_IDEO</th>\n",
       "      <th>INT_MISC</th>\n",
       "      <th>INT_ANY</th>\n",
       "      <th>related</th>\n",
       "    </tr>\n",
       "  </thead>\n",
       "  <tbody>\n",
       "    <tr>\n",
       "      <th>0</th>\n",
       "      <td>197000000001</td>\n",
       "      <td>1970</td>\n",
       "      <td>7</td>\n",
       "      <td>2</td>\n",
       "      <td>NaN</td>\n",
       "      <td>0</td>\n",
       "      <td>NaN</td>\n",
       "      <td>58</td>\n",
       "      <td>Dominican Republic</td>\n",
       "      <td>2</td>\n",
       "      <td>...</td>\n",
       "      <td>NaN</td>\n",
       "      <td>NaN</td>\n",
       "      <td>NaN</td>\n",
       "      <td>NaN</td>\n",
       "      <td>PGIS</td>\n",
       "      <td>0</td>\n",
       "      <td>0</td>\n",
       "      <td>0</td>\n",
       "      <td>0</td>\n",
       "      <td>NaN</td>\n",
       "    </tr>\n",
       "    <tr>\n",
       "      <th>1</th>\n",
       "      <td>197000000002</td>\n",
       "      <td>1970</td>\n",
       "      <td>0</td>\n",
       "      <td>0</td>\n",
       "      <td>NaN</td>\n",
       "      <td>0</td>\n",
       "      <td>NaN</td>\n",
       "      <td>130</td>\n",
       "      <td>Mexico</td>\n",
       "      <td>1</td>\n",
       "      <td>...</td>\n",
       "      <td>NaN</td>\n",
       "      <td>NaN</td>\n",
       "      <td>NaN</td>\n",
       "      <td>NaN</td>\n",
       "      <td>PGIS</td>\n",
       "      <td>0</td>\n",
       "      <td>1</td>\n",
       "      <td>1</td>\n",
       "      <td>1</td>\n",
       "      <td>NaN</td>\n",
       "    </tr>\n",
       "    <tr>\n",
       "      <th>2</th>\n",
       "      <td>197001000001</td>\n",
       "      <td>1970</td>\n",
       "      <td>1</td>\n",
       "      <td>0</td>\n",
       "      <td>NaN</td>\n",
       "      <td>0</td>\n",
       "      <td>NaN</td>\n",
       "      <td>160</td>\n",
       "      <td>Philippines</td>\n",
       "      <td>5</td>\n",
       "      <td>...</td>\n",
       "      <td>NaN</td>\n",
       "      <td>NaN</td>\n",
       "      <td>NaN</td>\n",
       "      <td>NaN</td>\n",
       "      <td>PGIS</td>\n",
       "      <td>-9</td>\n",
       "      <td>-9</td>\n",
       "      <td>1</td>\n",
       "      <td>1</td>\n",
       "      <td>NaN</td>\n",
       "    </tr>\n",
       "    <tr>\n",
       "      <th>3</th>\n",
       "      <td>197001000002</td>\n",
       "      <td>1970</td>\n",
       "      <td>1</td>\n",
       "      <td>0</td>\n",
       "      <td>NaN</td>\n",
       "      <td>0</td>\n",
       "      <td>NaN</td>\n",
       "      <td>78</td>\n",
       "      <td>Greece</td>\n",
       "      <td>8</td>\n",
       "      <td>...</td>\n",
       "      <td>NaN</td>\n",
       "      <td>NaN</td>\n",
       "      <td>NaN</td>\n",
       "      <td>NaN</td>\n",
       "      <td>PGIS</td>\n",
       "      <td>-9</td>\n",
       "      <td>-9</td>\n",
       "      <td>1</td>\n",
       "      <td>1</td>\n",
       "      <td>NaN</td>\n",
       "    </tr>\n",
       "    <tr>\n",
       "      <th>4</th>\n",
       "      <td>197001000003</td>\n",
       "      <td>1970</td>\n",
       "      <td>1</td>\n",
       "      <td>0</td>\n",
       "      <td>NaN</td>\n",
       "      <td>0</td>\n",
       "      <td>NaN</td>\n",
       "      <td>101</td>\n",
       "      <td>Japan</td>\n",
       "      <td>4</td>\n",
       "      <td>...</td>\n",
       "      <td>NaN</td>\n",
       "      <td>NaN</td>\n",
       "      <td>NaN</td>\n",
       "      <td>NaN</td>\n",
       "      <td>PGIS</td>\n",
       "      <td>-9</td>\n",
       "      <td>-9</td>\n",
       "      <td>1</td>\n",
       "      <td>1</td>\n",
       "      <td>NaN</td>\n",
       "    </tr>\n",
       "  </tbody>\n",
       "</table>\n",
       "<p>5 rows × 135 columns</p>\n",
       "</div>"
      ],
      "text/plain": [
       "        eventid  iyear  imonth  iday approxdate  extended resolution  country  \\\n",
       "0  197000000001   1970       7     2        NaN         0        NaN       58   \n",
       "1  197000000002   1970       0     0        NaN         0        NaN      130   \n",
       "2  197001000001   1970       1     0        NaN         0        NaN      160   \n",
       "3  197001000002   1970       1     0        NaN         0        NaN       78   \n",
       "4  197001000003   1970       1     0        NaN         0        NaN      101   \n",
       "\n",
       "          country_txt  region  ... addnotes scite1 scite2  scite3  dbsource  \\\n",
       "0  Dominican Republic       2  ...      NaN    NaN    NaN     NaN      PGIS   \n",
       "1              Mexico       1  ...      NaN    NaN    NaN     NaN      PGIS   \n",
       "2         Philippines       5  ...      NaN    NaN    NaN     NaN      PGIS   \n",
       "3              Greece       8  ...      NaN    NaN    NaN     NaN      PGIS   \n",
       "4               Japan       4  ...      NaN    NaN    NaN     NaN      PGIS   \n",
       "\n",
       "   INT_LOG  INT_IDEO INT_MISC INT_ANY  related  \n",
       "0        0         0        0       0      NaN  \n",
       "1        0         1        1       1      NaN  \n",
       "2       -9        -9        1       1      NaN  \n",
       "3       -9        -9        1       1      NaN  \n",
       "4       -9        -9        1       1      NaN  \n",
       "\n",
       "[5 rows x 135 columns]"
      ]
     },
     "metadata": {},
     "output_type": "display_data"
    }
   ],
   "source": [
    "import pandas as pd\n",
    "import numpy as np\n",
    "import matplotlib as mpl\n",
    "import matplotlib.pyplot as plt\n",
    "import seaborn as sns\n",
    "import datetime, nltk, warnings\n",
    "import matplotlib.cm as cm\n",
    "import itertools\n",
    "from pathlib import Path\n",
    "from sklearn.preprocessing import StandardScaler\n",
    "from sklearn.cluster import KMeans\n",
    "from sklearn.metrics import silhouette_samples, silhouette_score\n",
    "from sklearn import preprocessing, model_selection, metrics, feature_selection\n",
    "from sklearn.model_selection import GridSearchCV, learning_curve\n",
    "from sklearn.svm import SVC\n",
    "from sklearn.metrics import confusion_matrix\n",
    "from sklearn import neighbors, linear_model, svm, tree, ensemble\n",
    "from wordcloud import WordCloud, STOPWORDS\n",
    "from sklearn.ensemble import AdaBoostClassifier\n",
    "from sklearn.decomposition import PCA\n",
    "from IPython.display import display, HTML\n",
    "import plotly.graph_objs as go\n",
    "from plotly.offline import init_notebook_mode,iplot\n",
    "init_notebook_mode(connected=True)\n",
    "warnings.filterwarnings(\"ignore\")\n",
    "plt.rcParams[\"patch.force_edgecolor\"] = True\n",
    "plt.style.use('fivethirtyeight')\n",
    "mpl.rc('patch', edgecolor = 'dimgray', linewidth=1)\n",
    "%matplotlib inline\n",
    "\n",
    "df1 = pd.read_csv(\"globalterrorismdb_0718dist.csv\", encoding='ISO-8859-1')\n",
    "\n",
    "print('Dataframe dimensions:', df1.shape)\n",
    "\n",
    "# Extracting the information about the type of columns and checking presence of null values.\n",
    "tab_info=pd.DataFrame(df1.dtypes).T.rename(index={0:'column type'})\n",
    "tab_info=tab_info.append(pd.DataFrame(df1.isnull().sum()).T.rename(index={0:'null values (nb)'}))\n",
    "tab_info=tab_info.append(pd.DataFrame(df1.isnull().sum()/df1.shape[0]*100).T.\n",
    "                         rename(index={0:'null values (%)'}))\n",
    "display(tab_info)\n",
    "display(df1[:5])"
   ]
  },
  {
   "cell_type": "markdown",
   "id": "335f8a66",
   "metadata": {},
   "source": [
    "# Creating 3 different dataframes"
   ]
  },
  {
   "cell_type": "code",
   "execution_count": 2,
   "id": "ce94c9a9",
   "metadata": {},
   "outputs": [],
   "source": [
    "# Creation of the three dtaframes for training the Gaussian Naive Bayes Classiifcation model.\n",
    "# Here only the dataframe with 41 attributes and 24 attributes are created.\n",
    "\n",
    "df41 = df1.copy()\n",
    "df1.drop(['iyear','eventid','approxdate','extended','resolution','specificity','vicinity','location','summary','crit1','crit2','crit3','doubtterr','alternative','alternative_txt','attacktype2','attacktype2_txt','attacktype3','attacktype3_txt','corp1','natlty1', 'natlty1_txt', 'targtype2', 'targtype2_txt', 'ransom', 'ransomamt','targsubtype2', 'targsubtype2_txt', 'corp2', 'target2', 'natlty2', 'natlty2_txt', 'targtype3', 'targtype3_txt','targsubtype3', 'targsubtype3_txt', 'corp3', 'target3', 'natlty3', 'natlty3_txt','gsubname', 'gname2', 'gsubname2', 'gname3', 'gsubname3', 'motive','guncertain1', 'guncertain2', 'guncertain3', 'individual', 'nperps', 'nperpcap', 'claimed', 'claimmode', 'claimmode_txt', 'claim2', 'claimmode2', 'claimmode2_txt','claim3', 'claimmode3', 'claimmode3_txt', 'compclaim','weaptype2', 'weaptype2_txt', 'weapsubtype2', 'weapsubtype2_txt', 'weaptype3', 'weaptype3_txt', 'weapsubtype3', 'weapsubtype3_txt', 'weaptype4', 'weaptype4_txt', 'weapsubtype4', 'weapsubtype4_txt','weapdetail','nkillus', 'nkillter', 'nwound', 'nwoundus', 'nwoundte', 'property', 'propextent', 'propextent_txt', 'propvalue', 'propcomment', 'ishostkid', 'nhostkid', 'nhostkidus', 'nhours', 'ndays', 'divert', 'kidhijcountry', 'ransomamtus', 'ransompaid', 'ransompaidus', 'ransomnote', 'hostkidoutcome', 'hostkidoutcome_txt', 'nreleased', 'addnotes', 'scite1', 'scite2', 'scite3', 'dbsource','INT_LOG', 'INT_IDEO', 'INT_MISC', 'INT_ANY', 'related', 'weaptype1_txt','weapsubtype1_txt'], axis = 1,inplace=True)\n",
    "df41.drop(['approxdate','extended','resolution','specificity','crit1','crit2','crit3','doubtterr','alternative','alternative_txt','attacktype2','corp1','natlty1', 'natlty1_txt', 'corp2', 'target2', 'natlty2', 'natlty2_txt', 'targtype3', 'targtype3_txt','targsubtype3', 'targsubtype3_txt', 'corp3', 'target3', 'natlty3', 'natlty3_txt','gsubname', 'gname2', 'gsubname2', 'gname3', 'gsubname3', 'motive','guncertain1', 'guncertain2', 'guncertain3', 'individual', 'nperps', 'nperpcap', 'claimed', 'claimmode', 'claimmode_txt', 'claim2', 'claimmode2', 'claimmode2_txt','claim3', 'claimmode3', 'claimmode3_txt', 'compclaim','weaptype2', 'weaptype2_txt', 'weapsubtype2', 'weapsubtype2_txt', 'weaptype3', 'weaptype3_txt', 'weapsubtype3', 'weapsubtype3_txt', 'weaptype4', 'weaptype4_txt', 'weapsubtype4', 'weapsubtype4_txt','weapdetail','nkillus', 'nkillter', 'nwound', 'nwoundus', 'nwoundte', 'propvalue', 'propcomment', 'ishostkid', 'nhostkid', 'nhostkidus', 'nhours', 'ndays', 'divert', 'kidhijcountry', 'ransomamtus', 'ransompaid', 'ransompaidus', 'ransomnote', 'hostkidoutcome', 'hostkidoutcome_txt', 'nreleased', 'addnotes', 'scite1', 'scite2', 'scite3', 'dbsource','INT_LOG', 'INT_IDEO', 'INT_MISC', 'INT_ANY', 'related', 'weaptype1_txt','weapsubtype1_txt'], axis = 1,inplace=True)"
   ]
  },
  {
   "cell_type": "code",
   "execution_count": 3,
   "id": "7fc61b43",
   "metadata": {},
   "outputs": [
    {
     "data": {
      "text/plain": [
       "(181691, 41)"
      ]
     },
     "execution_count": 3,
     "metadata": {},
     "output_type": "execute_result"
    }
   ],
   "source": [
    "df41.shape"
   ]
  },
  {
   "cell_type": "code",
   "execution_count": 4,
   "id": "7f78fe9f",
   "metadata": {},
   "outputs": [
    {
     "name": "stdout",
     "output_type": "stream",
     "text": [
      "Dataframe dimensions of df1: (181691, 24)\n"
     ]
    },
    {
     "data": {
      "text/html": [
       "<div>\n",
       "<style scoped>\n",
       "    .dataframe tbody tr th:only-of-type {\n",
       "        vertical-align: middle;\n",
       "    }\n",
       "\n",
       "    .dataframe tbody tr th {\n",
       "        vertical-align: top;\n",
       "    }\n",
       "\n",
       "    .dataframe thead th {\n",
       "        text-align: right;\n",
       "    }\n",
       "</style>\n",
       "<table border=\"1\" class=\"dataframe\">\n",
       "  <thead>\n",
       "    <tr style=\"text-align: right;\">\n",
       "      <th></th>\n",
       "      <th>imonth</th>\n",
       "      <th>iday</th>\n",
       "      <th>country</th>\n",
       "      <th>country_txt</th>\n",
       "      <th>region</th>\n",
       "      <th>region_txt</th>\n",
       "      <th>provstate</th>\n",
       "      <th>city</th>\n",
       "      <th>latitude</th>\n",
       "      <th>longitude</th>\n",
       "      <th>...</th>\n",
       "      <th>attacktype1_txt</th>\n",
       "      <th>targtype1</th>\n",
       "      <th>targtype1_txt</th>\n",
       "      <th>targsubtype1</th>\n",
       "      <th>targsubtype1_txt</th>\n",
       "      <th>target1</th>\n",
       "      <th>gname</th>\n",
       "      <th>weaptype1</th>\n",
       "      <th>weapsubtype1</th>\n",
       "      <th>nkill</th>\n",
       "    </tr>\n",
       "  </thead>\n",
       "  <tbody>\n",
       "    <tr>\n",
       "      <th>column type</th>\n",
       "      <td>int64</td>\n",
       "      <td>int64</td>\n",
       "      <td>int64</td>\n",
       "      <td>object</td>\n",
       "      <td>int64</td>\n",
       "      <td>object</td>\n",
       "      <td>object</td>\n",
       "      <td>object</td>\n",
       "      <td>float64</td>\n",
       "      <td>float64</td>\n",
       "      <td>...</td>\n",
       "      <td>object</td>\n",
       "      <td>int64</td>\n",
       "      <td>object</td>\n",
       "      <td>float64</td>\n",
       "      <td>object</td>\n",
       "      <td>object</td>\n",
       "      <td>object</td>\n",
       "      <td>int64</td>\n",
       "      <td>float64</td>\n",
       "      <td>float64</td>\n",
       "    </tr>\n",
       "    <tr>\n",
       "      <th>null values (nb)</th>\n",
       "      <td>0</td>\n",
       "      <td>0</td>\n",
       "      <td>0</td>\n",
       "      <td>0</td>\n",
       "      <td>0</td>\n",
       "      <td>0</td>\n",
       "      <td>421</td>\n",
       "      <td>434</td>\n",
       "      <td>4556</td>\n",
       "      <td>4557</td>\n",
       "      <td>...</td>\n",
       "      <td>0</td>\n",
       "      <td>0</td>\n",
       "      <td>0</td>\n",
       "      <td>10373</td>\n",
       "      <td>10373</td>\n",
       "      <td>636</td>\n",
       "      <td>0</td>\n",
       "      <td>0</td>\n",
       "      <td>20768</td>\n",
       "      <td>10313</td>\n",
       "    </tr>\n",
       "    <tr>\n",
       "      <th>null values (%)</th>\n",
       "      <td>0.0</td>\n",
       "      <td>0.0</td>\n",
       "      <td>0.0</td>\n",
       "      <td>0.0</td>\n",
       "      <td>0.0</td>\n",
       "      <td>0.0</td>\n",
       "      <td>0.231712</td>\n",
       "      <td>0.238867</td>\n",
       "      <td>2.507554</td>\n",
       "      <td>2.508104</td>\n",
       "      <td>...</td>\n",
       "      <td>0.0</td>\n",
       "      <td>0.0</td>\n",
       "      <td>0.0</td>\n",
       "      <td>5.709144</td>\n",
       "      <td>5.709144</td>\n",
       "      <td>0.350045</td>\n",
       "      <td>0.0</td>\n",
       "      <td>0.0</td>\n",
       "      <td>11.430396</td>\n",
       "      <td>5.67612</td>\n",
       "    </tr>\n",
       "  </tbody>\n",
       "</table>\n",
       "<p>3 rows × 24 columns</p>\n",
       "</div>"
      ],
      "text/plain": [
       "                 imonth   iday country country_txt region region_txt  \\\n",
       "column type       int64  int64   int64      object  int64     object   \n",
       "null values (nb)      0      0       0           0      0          0   \n",
       "null values (%)     0.0    0.0     0.0         0.0    0.0        0.0   \n",
       "\n",
       "                 provstate      city  latitude longitude  ... attacktype1_txt  \\\n",
       "column type         object    object   float64   float64  ...          object   \n",
       "null values (nb)       421       434      4556      4557  ...               0   \n",
       "null values (%)   0.231712  0.238867  2.507554  2.508104  ...             0.0   \n",
       "\n",
       "                 targtype1 targtype1_txt targsubtype1 targsubtype1_txt  \\\n",
       "column type          int64        object      float64           object   \n",
       "null values (nb)         0             0        10373            10373   \n",
       "null values (%)        0.0           0.0     5.709144         5.709144   \n",
       "\n",
       "                   target1   gname weaptype1 weapsubtype1    nkill  \n",
       "column type         object  object     int64      float64  float64  \n",
       "null values (nb)       636       0         0        20768    10313  \n",
       "null values (%)   0.350045     0.0       0.0    11.430396  5.67612  \n",
       "\n",
       "[3 rows x 24 columns]"
      ]
     },
     "metadata": {},
     "output_type": "display_data"
    },
    {
     "name": "stdout",
     "output_type": "stream",
     "text": [
      "Dataframe dimensions of df41: (181691, 41)\n"
     ]
    },
    {
     "data": {
      "text/html": [
       "<div>\n",
       "<style scoped>\n",
       "    .dataframe tbody tr th:only-of-type {\n",
       "        vertical-align: middle;\n",
       "    }\n",
       "\n",
       "    .dataframe tbody tr th {\n",
       "        vertical-align: top;\n",
       "    }\n",
       "\n",
       "    .dataframe thead th {\n",
       "        text-align: right;\n",
       "    }\n",
       "</style>\n",
       "<table border=\"1\" class=\"dataframe\">\n",
       "  <thead>\n",
       "    <tr style=\"text-align: right;\">\n",
       "      <th></th>\n",
       "      <th>eventid</th>\n",
       "      <th>iyear</th>\n",
       "      <th>imonth</th>\n",
       "      <th>iday</th>\n",
       "      <th>country</th>\n",
       "      <th>country_txt</th>\n",
       "      <th>region</th>\n",
       "      <th>region_txt</th>\n",
       "      <th>provstate</th>\n",
       "      <th>city</th>\n",
       "      <th>...</th>\n",
       "      <th>targsubtype2_txt</th>\n",
       "      <th>gname</th>\n",
       "      <th>weaptype1</th>\n",
       "      <th>weapsubtype1</th>\n",
       "      <th>nkill</th>\n",
       "      <th>property</th>\n",
       "      <th>propextent</th>\n",
       "      <th>propextent_txt</th>\n",
       "      <th>ransom</th>\n",
       "      <th>ransomamt</th>\n",
       "    </tr>\n",
       "  </thead>\n",
       "  <tbody>\n",
       "    <tr>\n",
       "      <th>column type</th>\n",
       "      <td>int64</td>\n",
       "      <td>int64</td>\n",
       "      <td>int64</td>\n",
       "      <td>int64</td>\n",
       "      <td>int64</td>\n",
       "      <td>object</td>\n",
       "      <td>int64</td>\n",
       "      <td>object</td>\n",
       "      <td>object</td>\n",
       "      <td>object</td>\n",
       "      <td>...</td>\n",
       "      <td>object</td>\n",
       "      <td>object</td>\n",
       "      <td>int64</td>\n",
       "      <td>float64</td>\n",
       "      <td>float64</td>\n",
       "      <td>int64</td>\n",
       "      <td>float64</td>\n",
       "      <td>object</td>\n",
       "      <td>float64</td>\n",
       "      <td>float64</td>\n",
       "    </tr>\n",
       "    <tr>\n",
       "      <th>null values (nb)</th>\n",
       "      <td>0</td>\n",
       "      <td>0</td>\n",
       "      <td>0</td>\n",
       "      <td>0</td>\n",
       "      <td>0</td>\n",
       "      <td>0</td>\n",
       "      <td>0</td>\n",
       "      <td>0</td>\n",
       "      <td>421</td>\n",
       "      <td>434</td>\n",
       "      <td>...</td>\n",
       "      <td>171006</td>\n",
       "      <td>0</td>\n",
       "      <td>0</td>\n",
       "      <td>20768</td>\n",
       "      <td>10313</td>\n",
       "      <td>0</td>\n",
       "      <td>117626</td>\n",
       "      <td>117626</td>\n",
       "      <td>104310</td>\n",
       "      <td>180341</td>\n",
       "    </tr>\n",
       "    <tr>\n",
       "      <th>null values (%)</th>\n",
       "      <td>0.0</td>\n",
       "      <td>0.0</td>\n",
       "      <td>0.0</td>\n",
       "      <td>0.0</td>\n",
       "      <td>0.0</td>\n",
       "      <td>0.0</td>\n",
       "      <td>0.0</td>\n",
       "      <td>0.0</td>\n",
       "      <td>0.231712</td>\n",
       "      <td>0.238867</td>\n",
       "      <td>...</td>\n",
       "      <td>94.119136</td>\n",
       "      <td>0.0</td>\n",
       "      <td>0.0</td>\n",
       "      <td>11.430396</td>\n",
       "      <td>5.67612</td>\n",
       "      <td>0.0</td>\n",
       "      <td>64.739585</td>\n",
       "      <td>64.739585</td>\n",
       "      <td>57.410659</td>\n",
       "      <td>99.25698</td>\n",
       "    </tr>\n",
       "  </tbody>\n",
       "</table>\n",
       "<p>3 rows × 41 columns</p>\n",
       "</div>"
      ],
      "text/plain": [
       "                 eventid  iyear imonth   iday country country_txt region  \\\n",
       "column type        int64  int64  int64  int64   int64      object  int64   \n",
       "null values (nb)       0      0      0      0       0           0      0   \n",
       "null values (%)      0.0    0.0    0.0    0.0     0.0         0.0    0.0   \n",
       "\n",
       "                 region_txt provstate      city  ... targsubtype2_txt   gname  \\\n",
       "column type          object    object    object  ...           object  object   \n",
       "null values (nb)          0       421       434  ...           171006       0   \n",
       "null values (%)         0.0  0.231712  0.238867  ...        94.119136     0.0   \n",
       "\n",
       "                 weaptype1 weapsubtype1    nkill property propextent  \\\n",
       "column type          int64      float64  float64    int64    float64   \n",
       "null values (nb)         0        20768    10313        0     117626   \n",
       "null values (%)        0.0    11.430396  5.67612      0.0  64.739585   \n",
       "\n",
       "                 propextent_txt     ransom ransomamt  \n",
       "column type              object    float64   float64  \n",
       "null values (nb)         117626     104310    180341  \n",
       "null values (%)       64.739585  57.410659  99.25698  \n",
       "\n",
       "[3 rows x 41 columns]"
      ]
     },
     "metadata": {},
     "output_type": "display_data"
    }
   ],
   "source": [
    "df1.dropna(axis = 0, subset = ['gname'], inplace = True)\n",
    "print('Dataframe dimensions of df1:', df1.shape)\n",
    "tab_info=pd.DataFrame(df1.dtypes).T.rename(index={0:'column type'})\n",
    "tab_info=tab_info.append(pd.DataFrame(df1.isnull().sum()).T.rename(index={0:'null values (nb)'}))\n",
    "tab_info=tab_info.append(pd.DataFrame(df1.isnull().sum()/df1.shape[0]*100).T.\n",
    "                         rename(index={0:'null values (%)'}))\n",
    "display(tab_info)\n",
    "\n",
    "df41.dropna(axis = 0, subset = ['gname'], inplace = True)\n",
    "print('Dataframe dimensions of df41:', df41.shape)\n",
    "tab_info=pd.DataFrame(df41.dtypes).T.rename(index={0:'column type'})\n",
    "tab_info=tab_info.append(pd.DataFrame(df41.isnull().sum()).T.rename(index={0:'null values (nb)'}))\n",
    "tab_info=tab_info.append(pd.DataFrame(df41.isnull().sum()/df1.shape[0]*100).T.\n",
    "                         rename(index={0:'null values (%)'}))\n",
    "display(tab_info)"
   ]
  },
  {
   "cell_type": "markdown",
   "id": "4fe62dec",
   "metadata": {},
   "source": [
    "# Checking duplicate entries in the dataframes"
   ]
  },
  {
   "cell_type": "code",
   "execution_count": 5,
   "id": "5a85601f",
   "metadata": {},
   "outputs": [
    {
     "name": "stdout",
     "output_type": "stream",
     "text": [
      "Duplicate Entries: 11067\n"
     ]
    }
   ],
   "source": [
    "# Check for duplicate data objects and count them\n",
    "print('Duplicate Entries: {}'.format(df1.duplicated().sum()))\n",
    "df1.drop_duplicates(inplace = True)"
   ]
  },
  {
   "cell_type": "code",
   "execution_count": 6,
   "id": "e62210f6",
   "metadata": {},
   "outputs": [
    {
     "name": "stdout",
     "output_type": "stream",
     "text": [
      "Duplicate Entries: 0\n"
     ]
    }
   ],
   "source": [
    "print('Duplicate Entries: {}'.format(df41.duplicated().sum()))\n",
    "df41.drop_duplicates(inplace = True)"
   ]
  },
  {
   "cell_type": "code",
   "execution_count": 7,
   "id": "c7580901",
   "metadata": {},
   "outputs": [
    {
     "name": "stdout",
     "output_type": "stream",
     "text": [
      "Number of Countries: 202\n"
     ]
    }
   ],
   "source": [
    "# For analysis purposes display the total number of countries listed in the dataset\n",
    "temp = df1[['gname','targtype1','weaptype1','attacktype1','nkill','country_txt']].groupby(['gname','targtype1','weaptype1','attacktype1','nkill','country_txt']).count()\n",
    "temp = temp.reset_index(drop = False)\n",
    "countries = temp['country_txt'].value_counts()\n",
    "print('Number of Countries: {}'.format(len(countries)))"
   ]
  },
  {
   "cell_type": "markdown",
   "id": "562bc25c",
   "metadata": {},
   "source": [
    "# Display of map after analysis of the content of the initial dataframe"
   ]
  },
  {
   "cell_type": "code",
   "execution_count": 8,
   "id": "5dc3fa69",
   "metadata": {},
   "outputs": [
    {
     "data": {
      "application/vnd.plotly.v1+json": {
       "config": {
        "linkText": "Export to plot.ly",
        "plotlyServerURL": "https://plot.ly",
        "showLink": false
       },
       "data": [
        {
         "colorbar": {
          "title": {
           "text": "No. of Attacks"
          }
         },
         "colorscale": [
          [
           0,
           "rgb(224,255,255)"
          ],
          [
           0.01,
           "rgb(166,206,227)"
          ],
          [
           0.02,
           "rgb(31,120,180)"
          ],
          [
           0.03,
           "rgb(178,223,138)"
          ],
          [
           0.05,
           "rgb(51,160,44)"
          ],
          [
           0.1,
           "rgb(251,154,153)"
          ],
          [
           0.2,
           "rgb(255,255,0)"
          ],
          [
           1,
           "rgb(227,26,28)"
          ]
         ],
         "locationmode": "country names",
         "locations": [
          "India",
          "Pakistan",
          "Iraq",
          "Colombia",
          "Afghanistan",
          "Philippines",
          "Algeria",
          "Sri Lanka",
          "Nigeria",
          "Yemen",
          "Turkey",
          "United States",
          "Peru",
          "United Kingdom",
          "El Salvador",
          "Somalia",
          "Syria",
          "Lebanon",
          "West Bank and Gaza Strip",
          "Libya",
          "Egypt",
          "Nicaragua",
          "France",
          "Guatemala",
          "Israel",
          "Italy",
          "Bangladesh",
          "Russia",
          "Thailand",
          "Spain",
          "Nepal",
          "South Africa",
          "Democratic Republic of the Congo",
          "Greece",
          "Sudan",
          "Indonesia",
          "Chile",
          "Ukraine",
          "Mali",
          "Iran",
          "Kenya",
          "Burundi",
          "Uganda",
          "Myanmar",
          "Mexico",
          "Argentina",
          "Germany",
          "Angola",
          "West Germany (FRG)",
          "Central African Republic",
          "Cameroon",
          "Mozambique",
          "Honduras",
          "Japan",
          "Venezuela",
          "South Sudan",
          "Saudi Arabia",
          "Brazil",
          "Niger",
          "China",
          "Cambodia",
          "Georgia",
          "Ethiopia",
          "Rwanda",
          "Haiti",
          "Bolivia",
          "Tajikistan",
          "Ecuador",
          "Yugoslavia",
          "Ireland",
          "Belgium",
          "Kosovo",
          "Netherlands",
          "Namibia",
          "Senegal",
          "Tunisia",
          "Sierra Leone",
          "Jordan",
          "Chad",
          "Zimbabwe",
          "Bahrain",
          "Austria",
          "Paraguay",
          "Bosnia-Herzegovina",
          "Switzerland",
          "Panama",
          "Australia",
          "Macedonia",
          "Rhodesia",
          "Canada",
          "Papua New Guinea",
          "Portugal",
          "Cyprus",
          "Kuwait",
          "Sweden",
          "Ivory Coast",
          "Malaysia",
          "Dominican Republic",
          "Uruguay",
          "Soviet Union",
          "Suriname",
          "Tanzania",
          "Zaire",
          "Burkina Faso",
          "Zambia",
          "Costa Rica",
          "Albania",
          "Azerbaijan",
          "Taiwan",
          "Bulgaria",
          "Denmark",
          "Liberia",
          "Croatia",
          "South Korea",
          "Togo",
          "Jamaica",
          "Morocco",
          "Republic of the Congo",
          "Poland",
          "Kyrgyzstan",
          "Kazakhstan",
          "New Caledonia",
          "Madagascar",
          "Guadeloupe",
          "Laos",
          "Lesotho",
          "Czech Republic",
          "Guyana",
          "Hungary",
          "Hong Kong",
          "East Germany (GDR)",
          "Guinea",
          "Cuba",
          "Uzbekistan",
          "Armenia",
          "United Arab Emirates",
          "Djibouti",
          "Moldova",
          "Norway",
          "Maldives",
          "Mauritania",
          "Ghana",
          "Malta",
          "New Zealand",
          "Slovak Republic",
          "Trinidad and Tobago",
          "Macau",
          "Latvia",
          "Estonia",
          "Swaziland",
          "Belarus",
          "Fiji",
          "Finland",
          "Czechoslovakia",
          "Serbia",
          "Vietnam",
          "East Timor",
          "Eritrea",
          "Luxembourg",
          "Serbia-Montenegro",
          "Botswana",
          "Guinea-Bissau",
          "Belize",
          "Singapore",
          "Qatar",
          "Gabon",
          "Martinique",
          "Lithuania",
          "Romania",
          "Benin",
          "Bahamas",
          "French Guiana",
          "Malawi",
          "North Yemen",
          "Grenada",
          "Iceland",
          "Slovenia",
          "Montenegro",
          "Comoros",
          "Western Sahara",
          "Solomon Islands",
          "Bhutan",
          "French Polynesia",
          "Barbados",
          "Gambia",
          "People's Republic of the Congo",
          "Mauritius",
          "South Yemen",
          "St. Kitts and Nevis",
          "Brunei",
          "Equatorial Guinea",
          "Seychelles",
          "Dominica",
          "Turkmenistan",
          "Vanuatu",
          "New Hebrides",
          "St. Lucia",
          "North Korea",
          "Vatican City",
          "Wallis and Futuna",
          "South Vietnam",
          "International"
         ],
         "reversescale": false,
         "text": [
          "India",
          "Pakistan",
          "Iraq",
          "Colombia",
          "Afghanistan",
          "Philippines",
          "Algeria",
          "Sri Lanka",
          "Nigeria",
          "Yemen",
          "Turkey",
          "United States",
          "Peru",
          "United Kingdom",
          "El Salvador",
          "Somalia",
          "Syria",
          "Lebanon",
          "West Bank and Gaza Strip",
          "Libya",
          "Egypt",
          "Nicaragua",
          "France",
          "Guatemala",
          "Israel",
          "Italy",
          "Bangladesh",
          "Russia",
          "Thailand",
          "Spain",
          "Nepal",
          "South Africa",
          "Democratic Republic of the Congo",
          "Greece",
          "Sudan",
          "Indonesia",
          "Chile",
          "Ukraine",
          "Mali",
          "Iran",
          "Kenya",
          "Burundi",
          "Uganda",
          "Myanmar",
          "Mexico",
          "Argentina",
          "Germany",
          "Angola",
          "West Germany (FRG)",
          "Central African Republic",
          "Cameroon",
          "Mozambique",
          "Honduras",
          "Japan",
          "Venezuela",
          "South Sudan",
          "Saudi Arabia",
          "Brazil",
          "Niger",
          "China",
          "Cambodia",
          "Georgia",
          "Ethiopia",
          "Rwanda",
          "Haiti",
          "Bolivia",
          "Tajikistan",
          "Ecuador",
          "Yugoslavia",
          "Ireland",
          "Belgium",
          "Kosovo",
          "Netherlands",
          "Namibia",
          "Senegal",
          "Tunisia",
          "Sierra Leone",
          "Jordan",
          "Chad",
          "Zimbabwe",
          "Bahrain",
          "Austria",
          "Paraguay",
          "Bosnia-Herzegovina",
          "Switzerland",
          "Panama",
          "Australia",
          "Macedonia",
          "Rhodesia",
          "Canada",
          "Papua New Guinea",
          "Portugal",
          "Cyprus",
          "Kuwait",
          "Sweden",
          "Ivory Coast",
          "Malaysia",
          "Dominican Republic",
          "Uruguay",
          "Soviet Union",
          "Suriname",
          "Tanzania",
          "Zaire",
          "Burkina Faso",
          "Zambia",
          "Costa Rica",
          "Albania",
          "Azerbaijan",
          "Taiwan",
          "Bulgaria",
          "Denmark",
          "Liberia",
          "Croatia",
          "South Korea",
          "Togo",
          "Jamaica",
          "Morocco",
          "Republic of the Congo",
          "Poland",
          "Kyrgyzstan",
          "Kazakhstan",
          "New Caledonia",
          "Madagascar",
          "Guadeloupe",
          "Laos",
          "Lesotho",
          "Czech Republic",
          "Guyana",
          "Hungary",
          "Hong Kong",
          "East Germany (GDR)",
          "Guinea",
          "Cuba",
          "Uzbekistan",
          "Armenia",
          "United Arab Emirates",
          "Djibouti",
          "Moldova",
          "Norway",
          "Maldives",
          "Mauritania",
          "Ghana",
          "Malta",
          "New Zealand",
          "Slovak Republic",
          "Trinidad and Tobago",
          "Macau",
          "Latvia",
          "Estonia",
          "Swaziland",
          "Belarus",
          "Fiji",
          "Finland",
          "Czechoslovakia",
          "Serbia",
          "Vietnam",
          "East Timor",
          "Eritrea",
          "Luxembourg",
          "Serbia-Montenegro",
          "Botswana",
          "Guinea-Bissau",
          "Belize",
          "Singapore",
          "Qatar",
          "Gabon",
          "Martinique",
          "Lithuania",
          "Romania",
          "Benin",
          "Bahamas",
          "French Guiana",
          "Malawi",
          "North Yemen",
          "Grenada",
          "Iceland",
          "Slovenia",
          "Montenegro",
          "Comoros",
          "Western Sahara",
          "Solomon Islands",
          "Bhutan",
          "French Polynesia",
          "Barbados",
          "Gambia",
          "People's Republic of the Congo",
          "Mauritius",
          "South Yemen",
          "St. Kitts and Nevis",
          "Brunei",
          "Equatorial Guinea",
          "Seychelles",
          "Dominica",
          "Turkmenistan",
          "Vanuatu",
          "New Hebrides",
          "St. Lucia",
          "North Korea",
          "Vatican City",
          "Wallis and Futuna",
          "South Vietnam",
          "International"
         ],
         "type": "choropleth",
         "z": [
          3477,
          2376,
          2284,
          1996,
          1813,
          1432,
          1208,
          1197,
          1145,
          1079,
          1049,
          958,
          946,
          937,
          884,
          883,
          882,
          839,
          723,
          690,
          678,
          671,
          664,
          660,
          648,
          617,
          609,
          580,
          577,
          570,
          534,
          501,
          480,
          440,
          413,
          391,
          380,
          378,
          365,
          353,
          343,
          335,
          305,
          294,
          277,
          264,
          252,
          240,
          216,
          210,
          208,
          204,
          185,
          175,
          169,
          162,
          156,
          142,
          133,
          131,
          131,
          128,
          127,
          124,
          118,
          115,
          109,
          108,
          101,
          100,
          99,
          98,
          95,
          90,
          88,
          85,
          85,
          80,
          79,
          77,
          75,
          73,
          72,
          71,
          70,
          69,
          67,
          67,
          66,
          66,
          66,
          65,
          64,
          62,
          60,
          60,
          54,
          50,
          50,
          48,
          47,
          43,
          43,
          42,
          40,
          40,
          39,
          37,
          36,
          34,
          33,
          32,
          31,
          30,
          30,
          29,
          27,
          27,
          26,
          25,
          25,
          25,
          25,
          25,
          23,
          23,
          22,
          22,
          21,
          21,
          21,
          21,
          20,
          20,
          20,
          19,
          18,
          18,
          18,
          18,
          17,
          17,
          16,
          15,
          15,
          15,
          14,
          13,
          13,
          12,
          12,
          12,
          11,
          10,
          10,
          9,
          9,
          9,
          9,
          8,
          8,
          8,
          8,
          7,
          7,
          7,
          7,
          6,
          6,
          5,
          5,
          5,
          5,
          5,
          5,
          4,
          4,
          4,
          4,
          4,
          4,
          4,
          3,
          3,
          3,
          3,
          2,
          2,
          2,
          2,
          2,
          2,
          2,
          2,
          2,
          1,
          1,
          1,
          1,
          1,
          1,
          1
         ]
        }
       ],
       "layout": {
        "geo": {
         "projection": {
          "type": "mercator"
         },
         "showframe": true
        },
        "template": {
         "data": {
          "bar": [
           {
            "error_x": {
             "color": "#2a3f5f"
            },
            "error_y": {
             "color": "#2a3f5f"
            },
            "marker": {
             "line": {
              "color": "#E5ECF6",
              "width": 0.5
             },
             "pattern": {
              "fillmode": "overlay",
              "size": 10,
              "solidity": 0.2
             }
            },
            "type": "bar"
           }
          ],
          "barpolar": [
           {
            "marker": {
             "line": {
              "color": "#E5ECF6",
              "width": 0.5
             },
             "pattern": {
              "fillmode": "overlay",
              "size": 10,
              "solidity": 0.2
             }
            },
            "type": "barpolar"
           }
          ],
          "carpet": [
           {
            "aaxis": {
             "endlinecolor": "#2a3f5f",
             "gridcolor": "white",
             "linecolor": "white",
             "minorgridcolor": "white",
             "startlinecolor": "#2a3f5f"
            },
            "baxis": {
             "endlinecolor": "#2a3f5f",
             "gridcolor": "white",
             "linecolor": "white",
             "minorgridcolor": "white",
             "startlinecolor": "#2a3f5f"
            },
            "type": "carpet"
           }
          ],
          "choropleth": [
           {
            "colorbar": {
             "outlinewidth": 0,
             "ticks": ""
            },
            "type": "choropleth"
           }
          ],
          "contour": [
           {
            "colorbar": {
             "outlinewidth": 0,
             "ticks": ""
            },
            "colorscale": [
             [
              0,
              "#0d0887"
             ],
             [
              0.1111111111111111,
              "#46039f"
             ],
             [
              0.2222222222222222,
              "#7201a8"
             ],
             [
              0.3333333333333333,
              "#9c179e"
             ],
             [
              0.4444444444444444,
              "#bd3786"
             ],
             [
              0.5555555555555556,
              "#d8576b"
             ],
             [
              0.6666666666666666,
              "#ed7953"
             ],
             [
              0.7777777777777778,
              "#fb9f3a"
             ],
             [
              0.8888888888888888,
              "#fdca26"
             ],
             [
              1,
              "#f0f921"
             ]
            ],
            "type": "contour"
           }
          ],
          "contourcarpet": [
           {
            "colorbar": {
             "outlinewidth": 0,
             "ticks": ""
            },
            "type": "contourcarpet"
           }
          ],
          "heatmap": [
           {
            "colorbar": {
             "outlinewidth": 0,
             "ticks": ""
            },
            "colorscale": [
             [
              0,
              "#0d0887"
             ],
             [
              0.1111111111111111,
              "#46039f"
             ],
             [
              0.2222222222222222,
              "#7201a8"
             ],
             [
              0.3333333333333333,
              "#9c179e"
             ],
             [
              0.4444444444444444,
              "#bd3786"
             ],
             [
              0.5555555555555556,
              "#d8576b"
             ],
             [
              0.6666666666666666,
              "#ed7953"
             ],
             [
              0.7777777777777778,
              "#fb9f3a"
             ],
             [
              0.8888888888888888,
              "#fdca26"
             ],
             [
              1,
              "#f0f921"
             ]
            ],
            "type": "heatmap"
           }
          ],
          "heatmapgl": [
           {
            "colorbar": {
             "outlinewidth": 0,
             "ticks": ""
            },
            "colorscale": [
             [
              0,
              "#0d0887"
             ],
             [
              0.1111111111111111,
              "#46039f"
             ],
             [
              0.2222222222222222,
              "#7201a8"
             ],
             [
              0.3333333333333333,
              "#9c179e"
             ],
             [
              0.4444444444444444,
              "#bd3786"
             ],
             [
              0.5555555555555556,
              "#d8576b"
             ],
             [
              0.6666666666666666,
              "#ed7953"
             ],
             [
              0.7777777777777778,
              "#fb9f3a"
             ],
             [
              0.8888888888888888,
              "#fdca26"
             ],
             [
              1,
              "#f0f921"
             ]
            ],
            "type": "heatmapgl"
           }
          ],
          "histogram": [
           {
            "marker": {
             "pattern": {
              "fillmode": "overlay",
              "size": 10,
              "solidity": 0.2
             }
            },
            "type": "histogram"
           }
          ],
          "histogram2d": [
           {
            "colorbar": {
             "outlinewidth": 0,
             "ticks": ""
            },
            "colorscale": [
             [
              0,
              "#0d0887"
             ],
             [
              0.1111111111111111,
              "#46039f"
             ],
             [
              0.2222222222222222,
              "#7201a8"
             ],
             [
              0.3333333333333333,
              "#9c179e"
             ],
             [
              0.4444444444444444,
              "#bd3786"
             ],
             [
              0.5555555555555556,
              "#d8576b"
             ],
             [
              0.6666666666666666,
              "#ed7953"
             ],
             [
              0.7777777777777778,
              "#fb9f3a"
             ],
             [
              0.8888888888888888,
              "#fdca26"
             ],
             [
              1,
              "#f0f921"
             ]
            ],
            "type": "histogram2d"
           }
          ],
          "histogram2dcontour": [
           {
            "colorbar": {
             "outlinewidth": 0,
             "ticks": ""
            },
            "colorscale": [
             [
              0,
              "#0d0887"
             ],
             [
              0.1111111111111111,
              "#46039f"
             ],
             [
              0.2222222222222222,
              "#7201a8"
             ],
             [
              0.3333333333333333,
              "#9c179e"
             ],
             [
              0.4444444444444444,
              "#bd3786"
             ],
             [
              0.5555555555555556,
              "#d8576b"
             ],
             [
              0.6666666666666666,
              "#ed7953"
             ],
             [
              0.7777777777777778,
              "#fb9f3a"
             ],
             [
              0.8888888888888888,
              "#fdca26"
             ],
             [
              1,
              "#f0f921"
             ]
            ],
            "type": "histogram2dcontour"
           }
          ],
          "mesh3d": [
           {
            "colorbar": {
             "outlinewidth": 0,
             "ticks": ""
            },
            "type": "mesh3d"
           }
          ],
          "parcoords": [
           {
            "line": {
             "colorbar": {
              "outlinewidth": 0,
              "ticks": ""
             }
            },
            "type": "parcoords"
           }
          ],
          "pie": [
           {
            "automargin": true,
            "type": "pie"
           }
          ],
          "scatter": [
           {
            "fillpattern": {
             "fillmode": "overlay",
             "size": 10,
             "solidity": 0.2
            },
            "type": "scatter"
           }
          ],
          "scatter3d": [
           {
            "line": {
             "colorbar": {
              "outlinewidth": 0,
              "ticks": ""
             }
            },
            "marker": {
             "colorbar": {
              "outlinewidth": 0,
              "ticks": ""
             }
            },
            "type": "scatter3d"
           }
          ],
          "scattercarpet": [
           {
            "marker": {
             "colorbar": {
              "outlinewidth": 0,
              "ticks": ""
             }
            },
            "type": "scattercarpet"
           }
          ],
          "scattergeo": [
           {
            "marker": {
             "colorbar": {
              "outlinewidth": 0,
              "ticks": ""
             }
            },
            "type": "scattergeo"
           }
          ],
          "scattergl": [
           {
            "marker": {
             "colorbar": {
              "outlinewidth": 0,
              "ticks": ""
             }
            },
            "type": "scattergl"
           }
          ],
          "scattermapbox": [
           {
            "marker": {
             "colorbar": {
              "outlinewidth": 0,
              "ticks": ""
             }
            },
            "type": "scattermapbox"
           }
          ],
          "scatterpolar": [
           {
            "marker": {
             "colorbar": {
              "outlinewidth": 0,
              "ticks": ""
             }
            },
            "type": "scatterpolar"
           }
          ],
          "scatterpolargl": [
           {
            "marker": {
             "colorbar": {
              "outlinewidth": 0,
              "ticks": ""
             }
            },
            "type": "scatterpolargl"
           }
          ],
          "scatterternary": [
           {
            "marker": {
             "colorbar": {
              "outlinewidth": 0,
              "ticks": ""
             }
            },
            "type": "scatterternary"
           }
          ],
          "surface": [
           {
            "colorbar": {
             "outlinewidth": 0,
             "ticks": ""
            },
            "colorscale": [
             [
              0,
              "#0d0887"
             ],
             [
              0.1111111111111111,
              "#46039f"
             ],
             [
              0.2222222222222222,
              "#7201a8"
             ],
             [
              0.3333333333333333,
              "#9c179e"
             ],
             [
              0.4444444444444444,
              "#bd3786"
             ],
             [
              0.5555555555555556,
              "#d8576b"
             ],
             [
              0.6666666666666666,
              "#ed7953"
             ],
             [
              0.7777777777777778,
              "#fb9f3a"
             ],
             [
              0.8888888888888888,
              "#fdca26"
             ],
             [
              1,
              "#f0f921"
             ]
            ],
            "type": "surface"
           }
          ],
          "table": [
           {
            "cells": {
             "fill": {
              "color": "#EBF0F8"
             },
             "line": {
              "color": "white"
             }
            },
            "header": {
             "fill": {
              "color": "#C8D4E3"
             },
             "line": {
              "color": "white"
             }
            },
            "type": "table"
           }
          ]
         },
         "layout": {
          "annotationdefaults": {
           "arrowcolor": "#2a3f5f",
           "arrowhead": 0,
           "arrowwidth": 1
          },
          "autotypenumbers": "strict",
          "coloraxis": {
           "colorbar": {
            "outlinewidth": 0,
            "ticks": ""
           }
          },
          "colorscale": {
           "diverging": [
            [
             0,
             "#8e0152"
            ],
            [
             0.1,
             "#c51b7d"
            ],
            [
             0.2,
             "#de77ae"
            ],
            [
             0.3,
             "#f1b6da"
            ],
            [
             0.4,
             "#fde0ef"
            ],
            [
             0.5,
             "#f7f7f7"
            ],
            [
             0.6,
             "#e6f5d0"
            ],
            [
             0.7,
             "#b8e186"
            ],
            [
             0.8,
             "#7fbc41"
            ],
            [
             0.9,
             "#4d9221"
            ],
            [
             1,
             "#276419"
            ]
           ],
           "sequential": [
            [
             0,
             "#0d0887"
            ],
            [
             0.1111111111111111,
             "#46039f"
            ],
            [
             0.2222222222222222,
             "#7201a8"
            ],
            [
             0.3333333333333333,
             "#9c179e"
            ],
            [
             0.4444444444444444,
             "#bd3786"
            ],
            [
             0.5555555555555556,
             "#d8576b"
            ],
            [
             0.6666666666666666,
             "#ed7953"
            ],
            [
             0.7777777777777778,
             "#fb9f3a"
            ],
            [
             0.8888888888888888,
             "#fdca26"
            ],
            [
             1,
             "#f0f921"
            ]
           ],
           "sequentialminus": [
            [
             0,
             "#0d0887"
            ],
            [
             0.1111111111111111,
             "#46039f"
            ],
            [
             0.2222222222222222,
             "#7201a8"
            ],
            [
             0.3333333333333333,
             "#9c179e"
            ],
            [
             0.4444444444444444,
             "#bd3786"
            ],
            [
             0.5555555555555556,
             "#d8576b"
            ],
            [
             0.6666666666666666,
             "#ed7953"
            ],
            [
             0.7777777777777778,
             "#fb9f3a"
            ],
            [
             0.8888888888888888,
             "#fdca26"
            ],
            [
             1,
             "#f0f921"
            ]
           ]
          },
          "colorway": [
           "#636efa",
           "#EF553B",
           "#00cc96",
           "#ab63fa",
           "#FFA15A",
           "#19d3f3",
           "#FF6692",
           "#B6E880",
           "#FF97FF",
           "#FECB52"
          ],
          "font": {
           "color": "#2a3f5f"
          },
          "geo": {
           "bgcolor": "white",
           "lakecolor": "white",
           "landcolor": "#E5ECF6",
           "showlakes": true,
           "showland": true,
           "subunitcolor": "white"
          },
          "hoverlabel": {
           "align": "left"
          },
          "hovermode": "closest",
          "mapbox": {
           "style": "light"
          },
          "paper_bgcolor": "white",
          "plot_bgcolor": "#E5ECF6",
          "polar": {
           "angularaxis": {
            "gridcolor": "white",
            "linecolor": "white",
            "ticks": ""
           },
           "bgcolor": "#E5ECF6",
           "radialaxis": {
            "gridcolor": "white",
            "linecolor": "white",
            "ticks": ""
           }
          },
          "scene": {
           "xaxis": {
            "backgroundcolor": "#E5ECF6",
            "gridcolor": "white",
            "gridwidth": 2,
            "linecolor": "white",
            "showbackground": true,
            "ticks": "",
            "zerolinecolor": "white"
           },
           "yaxis": {
            "backgroundcolor": "#E5ECF6",
            "gridcolor": "white",
            "gridwidth": 2,
            "linecolor": "white",
            "showbackground": true,
            "ticks": "",
            "zerolinecolor": "white"
           },
           "zaxis": {
            "backgroundcolor": "#E5ECF6",
            "gridcolor": "white",
            "gridwidth": 2,
            "linecolor": "white",
            "showbackground": true,
            "ticks": "",
            "zerolinecolor": "white"
           }
          },
          "shapedefaults": {
           "line": {
            "color": "#2a3f5f"
           }
          },
          "ternary": {
           "aaxis": {
            "gridcolor": "white",
            "linecolor": "white",
            "ticks": ""
           },
           "baxis": {
            "gridcolor": "white",
            "linecolor": "white",
            "ticks": ""
           },
           "bgcolor": "#E5ECF6",
           "caxis": {
            "gridcolor": "white",
            "linecolor": "white",
            "ticks": ""
           }
          },
          "title": {
           "x": 0.05
          },
          "xaxis": {
           "automargin": true,
           "gridcolor": "white",
           "linecolor": "white",
           "ticks": "",
           "title": {
            "standoff": 15
           },
           "zerolinecolor": "white",
           "zerolinewidth": 2
          },
          "yaxis": {
           "automargin": true,
           "gridcolor": "white",
           "linecolor": "white",
           "ticks": "",
           "title": {
            "standoff": 15
           },
           "zerolinecolor": "white",
           "zerolinewidth": 2
          }
         }
        },
        "title": {
         "text": "Number of Attacks per Country"
        }
       }
      },
      "text/html": [
       "<div>                            <div id=\"23fd4158-81a0-4df6-9c36-56339014d4ee\" class=\"plotly-graph-div\" style=\"height:525px; width:100%;\"></div>            <script type=\"text/javascript\">                require([\"plotly\"], function(Plotly) {                    window.PLOTLYENV=window.PLOTLYENV || {};                                    if (document.getElementById(\"23fd4158-81a0-4df6-9c36-56339014d4ee\")) {                    Plotly.newPlot(                        \"23fd4158-81a0-4df6-9c36-56339014d4ee\",                        [{\"colorbar\":{\"title\":{\"text\":\"No. of Attacks\"}},\"colorscale\":[[0,\"rgb(224,255,255)\"],[0.01,\"rgb(166,206,227)\"],[0.02,\"rgb(31,120,180)\"],[0.03,\"rgb(178,223,138)\"],[0.05,\"rgb(51,160,44)\"],[0.1,\"rgb(251,154,153)\"],[0.2,\"rgb(255,255,0)\"],[1,\"rgb(227,26,28)\"]],\"locationmode\":\"country names\",\"locations\":[\"India\",\"Pakistan\",\"Iraq\",\"Colombia\",\"Afghanistan\",\"Philippines\",\"Algeria\",\"Sri Lanka\",\"Nigeria\",\"Yemen\",\"Turkey\",\"United States\",\"Peru\",\"United Kingdom\",\"El Salvador\",\"Somalia\",\"Syria\",\"Lebanon\",\"West Bank and Gaza Strip\",\"Libya\",\"Egypt\",\"Nicaragua\",\"France\",\"Guatemala\",\"Israel\",\"Italy\",\"Bangladesh\",\"Russia\",\"Thailand\",\"Spain\",\"Nepal\",\"South Africa\",\"Democratic Republic of the Congo\",\"Greece\",\"Sudan\",\"Indonesia\",\"Chile\",\"Ukraine\",\"Mali\",\"Iran\",\"Kenya\",\"Burundi\",\"Uganda\",\"Myanmar\",\"Mexico\",\"Argentina\",\"Germany\",\"Angola\",\"West Germany (FRG)\",\"Central African Republic\",\"Cameroon\",\"Mozambique\",\"Honduras\",\"Japan\",\"Venezuela\",\"South Sudan\",\"Saudi Arabia\",\"Brazil\",\"Niger\",\"China\",\"Cambodia\",\"Georgia\",\"Ethiopia\",\"Rwanda\",\"Haiti\",\"Bolivia\",\"Tajikistan\",\"Ecuador\",\"Yugoslavia\",\"Ireland\",\"Belgium\",\"Kosovo\",\"Netherlands\",\"Namibia\",\"Senegal\",\"Tunisia\",\"Sierra Leone\",\"Jordan\",\"Chad\",\"Zimbabwe\",\"Bahrain\",\"Austria\",\"Paraguay\",\"Bosnia-Herzegovina\",\"Switzerland\",\"Panama\",\"Australia\",\"Macedonia\",\"Rhodesia\",\"Canada\",\"Papua New Guinea\",\"Portugal\",\"Cyprus\",\"Kuwait\",\"Sweden\",\"Ivory Coast\",\"Malaysia\",\"Dominican Republic\",\"Uruguay\",\"Soviet Union\",\"Suriname\",\"Tanzania\",\"Zaire\",\"Burkina Faso\",\"Zambia\",\"Costa Rica\",\"Albania\",\"Azerbaijan\",\"Taiwan\",\"Bulgaria\",\"Denmark\",\"Liberia\",\"Croatia\",\"South Korea\",\"Togo\",\"Jamaica\",\"Morocco\",\"Republic of the Congo\",\"Poland\",\"Kyrgyzstan\",\"Kazakhstan\",\"New Caledonia\",\"Madagascar\",\"Guadeloupe\",\"Laos\",\"Lesotho\",\"Czech Republic\",\"Guyana\",\"Hungary\",\"Hong Kong\",\"East Germany (GDR)\",\"Guinea\",\"Cuba\",\"Uzbekistan\",\"Armenia\",\"United Arab Emirates\",\"Djibouti\",\"Moldova\",\"Norway\",\"Maldives\",\"Mauritania\",\"Ghana\",\"Malta\",\"New Zealand\",\"Slovak Republic\",\"Trinidad and Tobago\",\"Macau\",\"Latvia\",\"Estonia\",\"Swaziland\",\"Belarus\",\"Fiji\",\"Finland\",\"Czechoslovakia\",\"Serbia\",\"Vietnam\",\"East Timor\",\"Eritrea\",\"Luxembourg\",\"Serbia-Montenegro\",\"Botswana\",\"Guinea-Bissau\",\"Belize\",\"Singapore\",\"Qatar\",\"Gabon\",\"Martinique\",\"Lithuania\",\"Romania\",\"Benin\",\"Bahamas\",\"French Guiana\",\"Malawi\",\"North Yemen\",\"Grenada\",\"Iceland\",\"Slovenia\",\"Montenegro\",\"Comoros\",\"Western Sahara\",\"Solomon Islands\",\"Bhutan\",\"French Polynesia\",\"Barbados\",\"Gambia\",\"People's Republic of the Congo\",\"Mauritius\",\"South Yemen\",\"St. Kitts and Nevis\",\"Brunei\",\"Equatorial Guinea\",\"Seychelles\",\"Dominica\",\"Turkmenistan\",\"Vanuatu\",\"New Hebrides\",\"St. Lucia\",\"North Korea\",\"Vatican City\",\"Wallis and Futuna\",\"South Vietnam\",\"International\"],\"reversescale\":false,\"text\":[\"India\",\"Pakistan\",\"Iraq\",\"Colombia\",\"Afghanistan\",\"Philippines\",\"Algeria\",\"Sri Lanka\",\"Nigeria\",\"Yemen\",\"Turkey\",\"United States\",\"Peru\",\"United Kingdom\",\"El Salvador\",\"Somalia\",\"Syria\",\"Lebanon\",\"West Bank and Gaza Strip\",\"Libya\",\"Egypt\",\"Nicaragua\",\"France\",\"Guatemala\",\"Israel\",\"Italy\",\"Bangladesh\",\"Russia\",\"Thailand\",\"Spain\",\"Nepal\",\"South Africa\",\"Democratic Republic of the Congo\",\"Greece\",\"Sudan\",\"Indonesia\",\"Chile\",\"Ukraine\",\"Mali\",\"Iran\",\"Kenya\",\"Burundi\",\"Uganda\",\"Myanmar\",\"Mexico\",\"Argentina\",\"Germany\",\"Angola\",\"West Germany (FRG)\",\"Central African Republic\",\"Cameroon\",\"Mozambique\",\"Honduras\",\"Japan\",\"Venezuela\",\"South Sudan\",\"Saudi Arabia\",\"Brazil\",\"Niger\",\"China\",\"Cambodia\",\"Georgia\",\"Ethiopia\",\"Rwanda\",\"Haiti\",\"Bolivia\",\"Tajikistan\",\"Ecuador\",\"Yugoslavia\",\"Ireland\",\"Belgium\",\"Kosovo\",\"Netherlands\",\"Namibia\",\"Senegal\",\"Tunisia\",\"Sierra Leone\",\"Jordan\",\"Chad\",\"Zimbabwe\",\"Bahrain\",\"Austria\",\"Paraguay\",\"Bosnia-Herzegovina\",\"Switzerland\",\"Panama\",\"Australia\",\"Macedonia\",\"Rhodesia\",\"Canada\",\"Papua New Guinea\",\"Portugal\",\"Cyprus\",\"Kuwait\",\"Sweden\",\"Ivory Coast\",\"Malaysia\",\"Dominican Republic\",\"Uruguay\",\"Soviet Union\",\"Suriname\",\"Tanzania\",\"Zaire\",\"Burkina Faso\",\"Zambia\",\"Costa Rica\",\"Albania\",\"Azerbaijan\",\"Taiwan\",\"Bulgaria\",\"Denmark\",\"Liberia\",\"Croatia\",\"South Korea\",\"Togo\",\"Jamaica\",\"Morocco\",\"Republic of the Congo\",\"Poland\",\"Kyrgyzstan\",\"Kazakhstan\",\"New Caledonia\",\"Madagascar\",\"Guadeloupe\",\"Laos\",\"Lesotho\",\"Czech Republic\",\"Guyana\",\"Hungary\",\"Hong Kong\",\"East Germany (GDR)\",\"Guinea\",\"Cuba\",\"Uzbekistan\",\"Armenia\",\"United Arab Emirates\",\"Djibouti\",\"Moldova\",\"Norway\",\"Maldives\",\"Mauritania\",\"Ghana\",\"Malta\",\"New Zealand\",\"Slovak Republic\",\"Trinidad and Tobago\",\"Macau\",\"Latvia\",\"Estonia\",\"Swaziland\",\"Belarus\",\"Fiji\",\"Finland\",\"Czechoslovakia\",\"Serbia\",\"Vietnam\",\"East Timor\",\"Eritrea\",\"Luxembourg\",\"Serbia-Montenegro\",\"Botswana\",\"Guinea-Bissau\",\"Belize\",\"Singapore\",\"Qatar\",\"Gabon\",\"Martinique\",\"Lithuania\",\"Romania\",\"Benin\",\"Bahamas\",\"French Guiana\",\"Malawi\",\"North Yemen\",\"Grenada\",\"Iceland\",\"Slovenia\",\"Montenegro\",\"Comoros\",\"Western Sahara\",\"Solomon Islands\",\"Bhutan\",\"French Polynesia\",\"Barbados\",\"Gambia\",\"People's Republic of the Congo\",\"Mauritius\",\"South Yemen\",\"St. Kitts and Nevis\",\"Brunei\",\"Equatorial Guinea\",\"Seychelles\",\"Dominica\",\"Turkmenistan\",\"Vanuatu\",\"New Hebrides\",\"St. Lucia\",\"North Korea\",\"Vatican City\",\"Wallis and Futuna\",\"South Vietnam\",\"International\"],\"z\":[3477,2376,2284,1996,1813,1432,1208,1197,1145,1079,1049,958,946,937,884,883,882,839,723,690,678,671,664,660,648,617,609,580,577,570,534,501,480,440,413,391,380,378,365,353,343,335,305,294,277,264,252,240,216,210,208,204,185,175,169,162,156,142,133,131,131,128,127,124,118,115,109,108,101,100,99,98,95,90,88,85,85,80,79,77,75,73,72,71,70,69,67,67,66,66,66,65,64,62,60,60,54,50,50,48,47,43,43,42,40,40,39,37,36,34,33,32,31,30,30,29,27,27,26,25,25,25,25,25,23,23,22,22,21,21,21,21,20,20,20,19,18,18,18,18,17,17,16,15,15,15,14,13,13,12,12,12,11,10,10,9,9,9,9,8,8,8,8,7,7,7,7,6,6,5,5,5,5,5,5,4,4,4,4,4,4,4,3,3,3,3,2,2,2,2,2,2,2,2,2,1,1,1,1,1,1,1],\"type\":\"choropleth\"}],                        {\"geo\":{\"projection\":{\"type\":\"mercator\"},\"showframe\":true},\"title\":{\"text\":\"Number of Attacks per Country\"},\"template\":{\"data\":{\"histogram2dcontour\":[{\"type\":\"histogram2dcontour\",\"colorbar\":{\"outlinewidth\":0,\"ticks\":\"\"},\"colorscale\":[[0.0,\"#0d0887\"],[0.1111111111111111,\"#46039f\"],[0.2222222222222222,\"#7201a8\"],[0.3333333333333333,\"#9c179e\"],[0.4444444444444444,\"#bd3786\"],[0.5555555555555556,\"#d8576b\"],[0.6666666666666666,\"#ed7953\"],[0.7777777777777778,\"#fb9f3a\"],[0.8888888888888888,\"#fdca26\"],[1.0,\"#f0f921\"]]}],\"choropleth\":[{\"type\":\"choropleth\",\"colorbar\":{\"outlinewidth\":0,\"ticks\":\"\"}}],\"histogram2d\":[{\"type\":\"histogram2d\",\"colorbar\":{\"outlinewidth\":0,\"ticks\":\"\"},\"colorscale\":[[0.0,\"#0d0887\"],[0.1111111111111111,\"#46039f\"],[0.2222222222222222,\"#7201a8\"],[0.3333333333333333,\"#9c179e\"],[0.4444444444444444,\"#bd3786\"],[0.5555555555555556,\"#d8576b\"],[0.6666666666666666,\"#ed7953\"],[0.7777777777777778,\"#fb9f3a\"],[0.8888888888888888,\"#fdca26\"],[1.0,\"#f0f921\"]]}],\"heatmap\":[{\"type\":\"heatmap\",\"colorbar\":{\"outlinewidth\":0,\"ticks\":\"\"},\"colorscale\":[[0.0,\"#0d0887\"],[0.1111111111111111,\"#46039f\"],[0.2222222222222222,\"#7201a8\"],[0.3333333333333333,\"#9c179e\"],[0.4444444444444444,\"#bd3786\"],[0.5555555555555556,\"#d8576b\"],[0.6666666666666666,\"#ed7953\"],[0.7777777777777778,\"#fb9f3a\"],[0.8888888888888888,\"#fdca26\"],[1.0,\"#f0f921\"]]}],\"heatmapgl\":[{\"type\":\"heatmapgl\",\"colorbar\":{\"outlinewidth\":0,\"ticks\":\"\"},\"colorscale\":[[0.0,\"#0d0887\"],[0.1111111111111111,\"#46039f\"],[0.2222222222222222,\"#7201a8\"],[0.3333333333333333,\"#9c179e\"],[0.4444444444444444,\"#bd3786\"],[0.5555555555555556,\"#d8576b\"],[0.6666666666666666,\"#ed7953\"],[0.7777777777777778,\"#fb9f3a\"],[0.8888888888888888,\"#fdca26\"],[1.0,\"#f0f921\"]]}],\"contourcarpet\":[{\"type\":\"contourcarpet\",\"colorbar\":{\"outlinewidth\":0,\"ticks\":\"\"}}],\"contour\":[{\"type\":\"contour\",\"colorbar\":{\"outlinewidth\":0,\"ticks\":\"\"},\"colorscale\":[[0.0,\"#0d0887\"],[0.1111111111111111,\"#46039f\"],[0.2222222222222222,\"#7201a8\"],[0.3333333333333333,\"#9c179e\"],[0.4444444444444444,\"#bd3786\"],[0.5555555555555556,\"#d8576b\"],[0.6666666666666666,\"#ed7953\"],[0.7777777777777778,\"#fb9f3a\"],[0.8888888888888888,\"#fdca26\"],[1.0,\"#f0f921\"]]}],\"surface\":[{\"type\":\"surface\",\"colorbar\":{\"outlinewidth\":0,\"ticks\":\"\"},\"colorscale\":[[0.0,\"#0d0887\"],[0.1111111111111111,\"#46039f\"],[0.2222222222222222,\"#7201a8\"],[0.3333333333333333,\"#9c179e\"],[0.4444444444444444,\"#bd3786\"],[0.5555555555555556,\"#d8576b\"],[0.6666666666666666,\"#ed7953\"],[0.7777777777777778,\"#fb9f3a\"],[0.8888888888888888,\"#fdca26\"],[1.0,\"#f0f921\"]]}],\"mesh3d\":[{\"type\":\"mesh3d\",\"colorbar\":{\"outlinewidth\":0,\"ticks\":\"\"}}],\"scatter\":[{\"fillpattern\":{\"fillmode\":\"overlay\",\"size\":10,\"solidity\":0.2},\"type\":\"scatter\"}],\"parcoords\":[{\"type\":\"parcoords\",\"line\":{\"colorbar\":{\"outlinewidth\":0,\"ticks\":\"\"}}}],\"scatterpolargl\":[{\"type\":\"scatterpolargl\",\"marker\":{\"colorbar\":{\"outlinewidth\":0,\"ticks\":\"\"}}}],\"bar\":[{\"error_x\":{\"color\":\"#2a3f5f\"},\"error_y\":{\"color\":\"#2a3f5f\"},\"marker\":{\"line\":{\"color\":\"#E5ECF6\",\"width\":0.5},\"pattern\":{\"fillmode\":\"overlay\",\"size\":10,\"solidity\":0.2}},\"type\":\"bar\"}],\"scattergeo\":[{\"type\":\"scattergeo\",\"marker\":{\"colorbar\":{\"outlinewidth\":0,\"ticks\":\"\"}}}],\"scatterpolar\":[{\"type\":\"scatterpolar\",\"marker\":{\"colorbar\":{\"outlinewidth\":0,\"ticks\":\"\"}}}],\"histogram\":[{\"marker\":{\"pattern\":{\"fillmode\":\"overlay\",\"size\":10,\"solidity\":0.2}},\"type\":\"histogram\"}],\"scattergl\":[{\"type\":\"scattergl\",\"marker\":{\"colorbar\":{\"outlinewidth\":0,\"ticks\":\"\"}}}],\"scatter3d\":[{\"type\":\"scatter3d\",\"line\":{\"colorbar\":{\"outlinewidth\":0,\"ticks\":\"\"}},\"marker\":{\"colorbar\":{\"outlinewidth\":0,\"ticks\":\"\"}}}],\"scattermapbox\":[{\"type\":\"scattermapbox\",\"marker\":{\"colorbar\":{\"outlinewidth\":0,\"ticks\":\"\"}}}],\"scatterternary\":[{\"type\":\"scatterternary\",\"marker\":{\"colorbar\":{\"outlinewidth\":0,\"ticks\":\"\"}}}],\"scattercarpet\":[{\"type\":\"scattercarpet\",\"marker\":{\"colorbar\":{\"outlinewidth\":0,\"ticks\":\"\"}}}],\"carpet\":[{\"aaxis\":{\"endlinecolor\":\"#2a3f5f\",\"gridcolor\":\"white\",\"linecolor\":\"white\",\"minorgridcolor\":\"white\",\"startlinecolor\":\"#2a3f5f\"},\"baxis\":{\"endlinecolor\":\"#2a3f5f\",\"gridcolor\":\"white\",\"linecolor\":\"white\",\"minorgridcolor\":\"white\",\"startlinecolor\":\"#2a3f5f\"},\"type\":\"carpet\"}],\"table\":[{\"cells\":{\"fill\":{\"color\":\"#EBF0F8\"},\"line\":{\"color\":\"white\"}},\"header\":{\"fill\":{\"color\":\"#C8D4E3\"},\"line\":{\"color\":\"white\"}},\"type\":\"table\"}],\"barpolar\":[{\"marker\":{\"line\":{\"color\":\"#E5ECF6\",\"width\":0.5},\"pattern\":{\"fillmode\":\"overlay\",\"size\":10,\"solidity\":0.2}},\"type\":\"barpolar\"}],\"pie\":[{\"automargin\":true,\"type\":\"pie\"}]},\"layout\":{\"autotypenumbers\":\"strict\",\"colorway\":[\"#636efa\",\"#EF553B\",\"#00cc96\",\"#ab63fa\",\"#FFA15A\",\"#19d3f3\",\"#FF6692\",\"#B6E880\",\"#FF97FF\",\"#FECB52\"],\"font\":{\"color\":\"#2a3f5f\"},\"hovermode\":\"closest\",\"hoverlabel\":{\"align\":\"left\"},\"paper_bgcolor\":\"white\",\"plot_bgcolor\":\"#E5ECF6\",\"polar\":{\"bgcolor\":\"#E5ECF6\",\"angularaxis\":{\"gridcolor\":\"white\",\"linecolor\":\"white\",\"ticks\":\"\"},\"radialaxis\":{\"gridcolor\":\"white\",\"linecolor\":\"white\",\"ticks\":\"\"}},\"ternary\":{\"bgcolor\":\"#E5ECF6\",\"aaxis\":{\"gridcolor\":\"white\",\"linecolor\":\"white\",\"ticks\":\"\"},\"baxis\":{\"gridcolor\":\"white\",\"linecolor\":\"white\",\"ticks\":\"\"},\"caxis\":{\"gridcolor\":\"white\",\"linecolor\":\"white\",\"ticks\":\"\"}},\"coloraxis\":{\"colorbar\":{\"outlinewidth\":0,\"ticks\":\"\"}},\"colorscale\":{\"sequential\":[[0.0,\"#0d0887\"],[0.1111111111111111,\"#46039f\"],[0.2222222222222222,\"#7201a8\"],[0.3333333333333333,\"#9c179e\"],[0.4444444444444444,\"#bd3786\"],[0.5555555555555556,\"#d8576b\"],[0.6666666666666666,\"#ed7953\"],[0.7777777777777778,\"#fb9f3a\"],[0.8888888888888888,\"#fdca26\"],[1.0,\"#f0f921\"]],\"sequentialminus\":[[0.0,\"#0d0887\"],[0.1111111111111111,\"#46039f\"],[0.2222222222222222,\"#7201a8\"],[0.3333333333333333,\"#9c179e\"],[0.4444444444444444,\"#bd3786\"],[0.5555555555555556,\"#d8576b\"],[0.6666666666666666,\"#ed7953\"],[0.7777777777777778,\"#fb9f3a\"],[0.8888888888888888,\"#fdca26\"],[1.0,\"#f0f921\"]],\"diverging\":[[0,\"#8e0152\"],[0.1,\"#c51b7d\"],[0.2,\"#de77ae\"],[0.3,\"#f1b6da\"],[0.4,\"#fde0ef\"],[0.5,\"#f7f7f7\"],[0.6,\"#e6f5d0\"],[0.7,\"#b8e186\"],[0.8,\"#7fbc41\"],[0.9,\"#4d9221\"],[1,\"#276419\"]]},\"xaxis\":{\"gridcolor\":\"white\",\"linecolor\":\"white\",\"ticks\":\"\",\"title\":{\"standoff\":15},\"zerolinecolor\":\"white\",\"automargin\":true,\"zerolinewidth\":2},\"yaxis\":{\"gridcolor\":\"white\",\"linecolor\":\"white\",\"ticks\":\"\",\"title\":{\"standoff\":15},\"zerolinecolor\":\"white\",\"automargin\":true,\"zerolinewidth\":2},\"scene\":{\"xaxis\":{\"backgroundcolor\":\"#E5ECF6\",\"gridcolor\":\"white\",\"linecolor\":\"white\",\"showbackground\":true,\"ticks\":\"\",\"zerolinecolor\":\"white\",\"gridwidth\":2},\"yaxis\":{\"backgroundcolor\":\"#E5ECF6\",\"gridcolor\":\"white\",\"linecolor\":\"white\",\"showbackground\":true,\"ticks\":\"\",\"zerolinecolor\":\"white\",\"gridwidth\":2},\"zaxis\":{\"backgroundcolor\":\"#E5ECF6\",\"gridcolor\":\"white\",\"linecolor\":\"white\",\"showbackground\":true,\"ticks\":\"\",\"zerolinecolor\":\"white\",\"gridwidth\":2}},\"shapedefaults\":{\"line\":{\"color\":\"#2a3f5f\"}},\"annotationdefaults\":{\"arrowcolor\":\"#2a3f5f\",\"arrowhead\":0,\"arrowwidth\":1},\"geo\":{\"bgcolor\":\"white\",\"landcolor\":\"#E5ECF6\",\"subunitcolor\":\"white\",\"showland\":true,\"showlakes\":true,\"lakecolor\":\"white\"},\"title\":{\"x\":0.05},\"mapbox\":{\"style\":\"light\"}}}},                        {\"responsive\": true}                    ).then(function(){\n",
       "                            \n",
       "var gd = document.getElementById('23fd4158-81a0-4df6-9c36-56339014d4ee');\n",
       "var x = new MutationObserver(function (mutations, observer) {{\n",
       "        var display = window.getComputedStyle(gd).display;\n",
       "        if (!display || display === 'none') {{\n",
       "            console.log([gd, 'removed!']);\n",
       "            Plotly.purge(gd);\n",
       "            observer.disconnect();\n",
       "        }}\n",
       "}});\n",
       "\n",
       "// Listen for the removal of the full notebook cells\n",
       "var notebookContainer = gd.closest('#notebook-container');\n",
       "if (notebookContainer) {{\n",
       "    x.observe(notebookContainer, {childList: true});\n",
       "}}\n",
       "\n",
       "// Listen for the clearing of the current output cell\n",
       "var outputEl = gd.closest('.output');\n",
       "if (outputEl) {{\n",
       "    x.observe(outputEl, {childList: true});\n",
       "}}\n",
       "\n",
       "                        })                };                });            </script>        </div>"
      ]
     },
     "metadata": {},
     "output_type": "display_data"
    }
   ],
   "source": [
    "# Displaying countries with higest number of recorded terrorist attack activities.\n",
    "\n",
    "data = dict(type='choropleth',\n",
    "locations = countries.index,\n",
    "locationmode = 'country names', z = countries,\n",
    "text = countries.index, colorbar = {'title':'No. of Attacks'},\n",
    "colorscale=[[0, 'rgb(224,255,255)'],\n",
    "            [0.01, 'rgb(166,206,227)'], [0.02, 'rgb(31,120,180)'],\n",
    "            [0.03, 'rgb(178,223,138)'], [0.05, 'rgb(51,160,44)'],\n",
    "            [0.10, 'rgb(251,154,153)'], [0.20, 'rgb(255,255,0)'],\n",
    "            [1, 'rgb(227,26,28)']],    \n",
    "reversescale = False)\n",
    "layout = dict(title='Number of Attacks per Country',\n",
    "geo = dict(showframe = True, projection={'type':'mercator'}))\n",
    "choromap = go.Figure(data = [data], layout = layout)\n",
    "iplot(choromap, validate=False)"
   ]
  },
  {
   "cell_type": "code",
   "execution_count": 9,
   "id": "99b54531",
   "metadata": {},
   "outputs": [
    {
     "data": {
      "text/html": [
       "<div>\n",
       "<style scoped>\n",
       "    .dataframe tbody tr th:only-of-type {\n",
       "        vertical-align: middle;\n",
       "    }\n",
       "\n",
       "    .dataframe tbody tr th {\n",
       "        vertical-align: top;\n",
       "    }\n",
       "\n",
       "    .dataframe thead th {\n",
       "        text-align: right;\n",
       "    }\n",
       "</style>\n",
       "<table border=\"1\" class=\"dataframe\">\n",
       "  <thead>\n",
       "    <tr style=\"text-align: right;\">\n",
       "      <th></th>\n",
       "      <th>Terrorist_Group</th>\n",
       "      <th>Targets</th>\n",
       "      <th>Weapon_Type</th>\n",
       "      <th>Attack_Type</th>\n",
       "      <th>Kills</th>\n",
       "    </tr>\n",
       "  </thead>\n",
       "  <tbody>\n",
       "    <tr>\n",
       "      <th>Count</th>\n",
       "      <td>3537</td>\n",
       "      <td>22</td>\n",
       "      <td>12</td>\n",
       "      <td>9</td>\n",
       "      <td>205</td>\n",
       "    </tr>\n",
       "  </tbody>\n",
       "</table>\n",
       "</div>"
      ],
      "text/plain": [
       "       Terrorist_Group  Targets  Weapon_Type  Attack_Type  Kills\n",
       "Count             3537       22           12            9    205"
      ]
     },
     "execution_count": 9,
     "metadata": {},
     "output_type": "execute_result"
    }
   ],
   "source": [
    "pd.DataFrame([{'Terrorist_Group': len(df1['gname'].value_counts()),    \n",
    "               'Targets': len(df1['targtype1'].value_counts()),\n",
    "               'Weapon_Type': len(df1['weaptype1'].value_counts()),\n",
    "               'Attack_Type': len(df1['attacktype1'].value_counts()),\n",
    "               'Kills': len(df1['nkill'].value_counts()),\n",
    "              }], columns = ['Terrorist_Group', 'Targets', 'Weapon_Type', 'Attack_Type','Kills' ], index = ['Count'])"
   ]
  },
  {
   "cell_type": "markdown",
   "id": "d85b4cff",
   "metadata": {},
   "source": [
    "# Word count of various target types for visual analysis"
   ]
  },
  {
   "cell_type": "code",
   "execution_count": 10,
   "id": "4c738868",
   "metadata": {},
   "outputs": [],
   "source": [
    "# extract the names (proper, common) appearing in the target type description description\n",
    "#for each extract the root of the word and aggregate the set of words associated with this particular root\n",
    "#count the number of times each root appears in the dataframe\n",
    "\n",
    "is_noun = lambda pos: pos[:2] == 'NN'\n",
    "\n",
    "def keywords_inventory(dataframe, column = 'targtype1_txt'):\n",
    "    stemmer = nltk.stem.SnowballStemmer(\"english\")\n",
    "    keywords_roots  = dict()  \n",
    "    keywords_select = dict()  \n",
    "    category_keys   = []\n",
    "    count_keywords  = dict()\n",
    "    icount = 0\n",
    "    for s in dataframe[column]:\n",
    "        if pd.isnull(s): continue\n",
    "        lines = s.lower()\n",
    "        tokenized = nltk.word_tokenize(lines)\n",
    "        nouns = [word for (word, pos) in nltk.pos_tag(tokenized) if is_noun(pos)] \n",
    "        \n",
    "        for t in nouns:\n",
    "            t = t.lower() ; racine = stemmer.stem(t)\n",
    "            if racine in keywords_roots:                \n",
    "                keywords_roots[racine].add(t)\n",
    "                count_keywords[racine] += 1                \n",
    "            else:\n",
    "                keywords_roots[racine] = {t}\n",
    "                count_keywords[racine] = 1\n",
    "    \n",
    "    for s in keywords_roots.keys():\n",
    "        if len(keywords_roots[s]) > 1:  \n",
    "            min_length = 1000\n",
    "            for k in keywords_roots[s]:\n",
    "                if len(k) < min_length:\n",
    "                    clef = k ; min_length = len(k)            \n",
    "            category_keys.append(clef)\n",
    "            keywords_select[s] = clef\n",
    "        else:\n",
    "            category_keys.append(list(keywords_roots[s])[0])\n",
    "            keywords_select[s] = list(keywords_roots[s])[0]\n",
    "                   \n",
    "    print(\"No. of keywords in variable '{}': {}\".format(column,len(category_keys)))\n",
    "    return category_keys, keywords_roots, keywords_select, count_keywords"
   ]
  },
  {
   "cell_type": "code",
   "execution_count": 11,
   "id": "4db80c64",
   "metadata": {},
   "outputs": [],
   "source": [
    "df_target_type = pd.DataFrame(df1['targtype1_txt'].unique()).rename(columns = {0:'targtype1_txt'})"
   ]
  },
  {
   "cell_type": "code",
   "execution_count": 12,
   "id": "4cc3e03f",
   "metadata": {},
   "outputs": [
    {
     "name": "stdout",
     "output_type": "stream",
     "text": [
      "No. of keywords in variable 'targtype1_txt': 23\n"
     ]
    }
   ],
   "source": [
    "keywords, keywords_roots, keywords_select, count_keywords = keywords_inventory(df_target_type)"
   ]
  },
  {
   "cell_type": "code",
   "execution_count": 13,
   "id": "2854c2a8",
   "metadata": {},
   "outputs": [],
   "source": [
    "target_type_list = []\n",
    "for k,v in count_keywords.items():\n",
    "    target_type_list.append([keywords_select[k],v])\n",
    "target_type_list.sort(key = lambda x:x[1], reverse = True)"
   ]
  },
  {
   "cell_type": "code",
   "execution_count": 14,
   "id": "2e633ab4",
   "metadata": {},
   "outputs": [
    {
     "data": {
      "image/png": "[encoded data removed]",
      "text/plain": [
       "<Figure size 504x1800 with 1 Axes>"
      ]
     },
     "metadata": {
      "needs_background": "light"
     },
     "output_type": "display_data"
    }
   ],
   "source": [
    "# Display the word occurances in major target type featureset.\n",
    "\n",
    "target_type_list2 = sorted(target_type_list, key = lambda x:x[1], reverse = True)\n",
    "plt.rc('font', weight='normal')\n",
    "fig, ax = plt.subplots(figsize=(7, 25))\n",
    "y_axis = [i[1] for i in target_type_list2[:125]]\n",
    "x_axis = [k for k,i in enumerate(target_type_list2[:125])]\n",
    "x_label = [i[0] for i in target_type_list[:125]]\n",
    "plt.xticks(fontsize = 15)\n",
    "plt.yticks(fontsize = 13)\n",
    "plt.yticks(x_axis, x_label)\n",
    "plt.xlabel(\"Number of occurences\", fontsize = 18, labelpad = 10)\n",
    "ax.barh(x_axis, y_axis, align = 'center', color = 'r')\n",
    "ax = plt.gca()\n",
    "ax.invert_yaxis()\n",
    "\n",
    "plt.title(\"Major Target Type Words occurence\",bbox={'facecolor':'k', 'pad':5}, color='r',fontsize = 25)\n",
    "plt.show()"
   ]
  },
  {
   "cell_type": "code",
   "execution_count": 15,
   "id": "f989b025",
   "metadata": {},
   "outputs": [],
   "source": [
    "# extract the names (proper, common) appearing in the target subtype description description\n",
    "\n",
    "is_noun = lambda pos: pos[:2] == 'NN'\n",
    "\n",
    "def keywords_inventory(dataframe, column = 'targsubtype1_txt'):\n",
    "    stemmer = nltk.stem.SnowballStemmer(\"english\")\n",
    "    keywords_roots  = dict()  # collect the words / root\n",
    "    keywords_select = dict()  # association: root <-> keyword\n",
    "    category_keys   = []\n",
    "    count_keywords  = dict()\n",
    "    icount = 0\n",
    "    for s in dataframe[column]:\n",
    "        if pd.isnull(s): continue\n",
    "        lines = s.lower()\n",
    "        tokenized = nltk.word_tokenize(lines)\n",
    "        nouns = [word for (word, pos) in nltk.pos_tag(tokenized) if is_noun(pos)] \n",
    "        \n",
    "        for t in nouns:\n",
    "            t = t.lower() ; racine = stemmer.stem(t)\n",
    "            if racine in keywords_roots:                \n",
    "                keywords_roots[racine].add(t)\n",
    "                count_keywords[racine] += 1                \n",
    "            else:\n",
    "                keywords_roots[racine] = {t}\n",
    "                count_keywords[racine] = 1\n",
    "    \n",
    "    for s in keywords_roots.keys():\n",
    "        if len(keywords_roots[s]) > 1:  \n",
    "            min_length = 1000\n",
    "            for k in keywords_roots[s]:\n",
    "                if len(k) < min_length:\n",
    "                    clef = k ; min_length = len(k)            \n",
    "            category_keys.append(clef)\n",
    "            keywords_select[s] = clef\n",
    "        else:\n",
    "            category_keys.append(list(keywords_roots[s])[0])\n",
    "            keywords_select[s] = list(keywords_roots[s])[0]\n",
    "                   \n",
    "    print(\"No. of keywords in variable '{}': {}\".format(column,len(category_keys)))\n",
    "    return category_keys, keywords_roots, keywords_select, count_keywords"
   ]
  },
  {
   "cell_type": "code",
   "execution_count": 16,
   "id": "6e545285",
   "metadata": {},
   "outputs": [
    {
     "name": "stdout",
     "output_type": "stream",
     "text": [
      "No. of keywords in variable 'targsubtype1_txt': 135\n"
     ]
    }
   ],
   "source": [
    "df_target_type = pd.DataFrame(df1['targsubtype1_txt'].unique()).rename(columns = {0:'targsubtype1_txt'})\n",
    "keywords, keywords_roots, keywords_select, count_keywords = keywords_inventory(df_target_type)"
   ]
  },
  {
   "cell_type": "code",
   "execution_count": 17,
   "id": "66d05b5d",
   "metadata": {},
   "outputs": [
    {
     "data": {
      "image/png": "[encoded data removed]",
      "text/plain": [
       "<Figure size 504x1800 with 1 Axes>"
      ]
     },
     "metadata": {
      "needs_background": "light"
     },
     "output_type": "display_data"
    }
   ],
   "source": [
    "# Display the word occurances in major target subtype featureset\n",
    "target_type_list = []\n",
    "for k,v in count_keywords.items():\n",
    "    target_type_list.append([keywords_select[k],v])\n",
    "target_type_list.sort(key = lambda x:x[1], reverse = True)\n",
    "target_type_list2 = sorted(target_type_list, key = lambda x:x[1], reverse = True)\n",
    "\n",
    "plt.rc('font', weight='normal')\n",
    "fig, ax = plt.subplots(figsize=(7, 25))\n",
    "y_axis = [i[1] for i in target_type_list2[:125]]\n",
    "x_axis = [k for k,i in enumerate(target_type_list2[:125])]\n",
    "x_label = [i[0] for i in target_type_list[:125]]\n",
    "plt.xticks(fontsize = 15)\n",
    "plt.yticks(fontsize = 13)\n",
    "plt.yticks(x_axis, x_label)\n",
    "plt.xlabel(\"Number of occurences\", fontsize = 18, labelpad = 10)\n",
    "ax.barh(x_axis, y_axis, align = 'center', color = 'r')\n",
    "ax = plt.gca()\n",
    "ax.invert_yaxis()\n",
    "\n",
    "plt.title(\"Target Subtype Words occurence\",bbox={'facecolor':'k', 'pad':5}, color='r',fontsize = 25)\n",
    "plt.show()"
   ]
  },
  {
   "cell_type": "code",
   "execution_count": 18,
   "id": "cbd24dd8",
   "metadata": {},
   "outputs": [
    {
     "name": "stdout",
     "output_type": "stream",
     "text": [
      "No. of keywords in variable 'gname': 2866\n"
     ]
    },
    {
     "data": {
      "image/png": "[encoded data removed]",
      "text/plain": [
       "<Figure size 504x1800 with 1 Axes>"
      ]
     },
     "metadata": {
      "needs_background": "light"
     },
     "output_type": "display_data"
    }
   ],
   "source": [
    "# extract the names (proper, common) appearing in the terrorist gang description\n",
    "\n",
    "is_noun = lambda pos: pos[:2] == 'NN'\n",
    "\n",
    "def keywords_inventory(dataframe, column = 'gname'):\n",
    "    stemmer = nltk.stem.SnowballStemmer(\"english\")\n",
    "    keywords_roots  = dict()  # collect the words / root\n",
    "    keywords_select = dict()  # association: root <-> keyword\n",
    "    category_keys   = []\n",
    "    count_keywords  = dict()\n",
    "    icount = 0\n",
    "    for s in dataframe[column]:\n",
    "        if pd.isnull(s): continue\n",
    "        lines = s.lower()\n",
    "        tokenized = nltk.word_tokenize(lines)\n",
    "        nouns = [word for (word, pos) in nltk.pos_tag(tokenized) if is_noun(pos)] \n",
    "        \n",
    "        for t in nouns:\n",
    "            t = t.lower() ; racine = stemmer.stem(t)\n",
    "            if racine in keywords_roots:                \n",
    "                keywords_roots[racine].add(t)\n",
    "                count_keywords[racine] += 1                \n",
    "            else:\n",
    "                keywords_roots[racine] = {t}\n",
    "                count_keywords[racine] = 1\n",
    "    \n",
    "    for s in keywords_roots.keys():\n",
    "        if len(keywords_roots[s]) > 1:  \n",
    "            min_length = 1000\n",
    "            for k in keywords_roots[s]:\n",
    "                if len(k) < min_length:\n",
    "                    clef = k ; min_length = len(k)            \n",
    "            category_keys.append(clef)\n",
    "            keywords_select[s] = clef\n",
    "        else:\n",
    "            category_keys.append(list(keywords_roots[s])[0])\n",
    "            keywords_select[s] = list(keywords_roots[s])[0]\n",
    "                   \n",
    "    print(\"No. of keywords in variable '{}': {}\".format(column,len(category_keys)))\n",
    "    return category_keys, keywords_roots, keywords_select, count_keywords\n",
    "df_target_type = pd.DataFrame(df1['gname'].unique()).rename(columns = {0:'gname'})\n",
    "keywords, keywords_roots, keywords_select, count_keywords = keywords_inventory(df_target_type)\n",
    "\n",
    "# Display the word occurances in major target type featureset\n",
    "target_type_list = []\n",
    "for k,v in count_keywords.items():\n",
    "    target_type_list.append([keywords_select[k],v])\n",
    "target_type_list.sort(key = lambda x:x[1], reverse = True)\n",
    "target_type_list2 = sorted(target_type_list, key = lambda x:x[1], reverse = True)\n",
    "\n",
    "plt.rc('font', weight='normal')\n",
    "fig, ax = plt.subplots(figsize=(7, 25))\n",
    "y_axis = [i[1] for i in target_type_list2[:125]]\n",
    "x_axis = [k for k,i in enumerate(target_type_list2[:125])]\n",
    "x_label = [i[0] for i in target_type_list[:125]]\n",
    "plt.xticks(fontsize = 15)\n",
    "plt.yticks(fontsize = 13)\n",
    "plt.yticks(x_axis, x_label)\n",
    "plt.xlabel(\"Number of occurences\", fontsize = 18, labelpad = 10)\n",
    "ax.barh(x_axis, y_axis, align = 'center', color = 'r')\n",
    "ax = plt.gca()\n",
    "ax.invert_yaxis()\n",
    "\n",
    "plt.title(\"Terrorist Gang Name Words Occurance\",bbox={'facecolor':'k', 'pad':5}, color='r',fontsize = 25)\n",
    "plt.show()"
   ]
  },
  {
   "cell_type": "code",
   "execution_count": 19,
   "id": "0ae46208",
   "metadata": {},
   "outputs": [
    {
     "name": "stdout",
     "output_type": "stream",
     "text": [
      "['imonth', 'iday', 'country', 'country_txt', 'region', 'region_txt', 'provstate', 'city', 'latitude', 'longitude', 'multiple', 'success', 'suicide', 'attacktype1', 'attacktype1_txt', 'targtype1', 'targtype1_txt', 'targsubtype1', 'targsubtype1_txt', 'target1', 'gname', 'weaptype1', 'weapsubtype1', 'nkill']\n",
      "24\n"
     ]
    }
   ],
   "source": [
    "column_names = df1.columns.values.tolist()\n",
    "print(column_names)\n",
    "print(len(column_names))"
   ]
  },
  {
   "cell_type": "code",
   "execution_count": 20,
   "id": "38ce8128",
   "metadata": {},
   "outputs": [],
   "source": [
    "column_names41 = df41.columns.values.tolist()"
   ]
  },
  {
   "cell_type": "markdown",
   "id": "040d8b1c",
   "metadata": {},
   "source": [
    "# Label encoding the attributes with data containing string value"
   ]
  },
  {
   "cell_type": "code",
   "execution_count": 21,
   "id": "6c90f2ef",
   "metadata": {},
   "outputs": [],
   "source": [
    "from sklearn.preprocessing import LabelEncoder\n",
    "le = LabelEncoder()\n",
    "for i in column_names:\n",
    "    check = (type(i[1]) == str)\n",
    "    if check == True:\n",
    "        label = le.fit_transform(df1[i])\n",
    "        df1.drop(i, axis=1, inplace=True)\n",
    "        df1[i] = label"
   ]
  },
  {
   "cell_type": "code",
   "execution_count": 22,
   "id": "b6bcfab3",
   "metadata": {},
   "outputs": [],
   "source": [
    "from sklearn.preprocessing import LabelEncoder\n",
    "le = LabelEncoder()\n",
    "for i in column_names41:\n",
    "    check = (type(i[1]) == str)\n",
    "    if check == True:\n",
    "        label = le.fit_transform(df41[i])\n",
    "        df41.drop(i, axis=1, inplace=True)\n",
    "        df41[i] = label"
   ]
  },
  {
   "cell_type": "code",
   "execution_count": 23,
   "id": "9240f4e5",
   "metadata": {},
   "outputs": [],
   "source": [
    "# Dataframe with 16 attributes is created here.\n",
    "\n",
    "matrix = df1[column_names].to_numpy()\n",
    "df2 = df1.copy()"
   ]
  },
  {
   "cell_type": "code",
   "execution_count": 24,
   "id": "665a3407",
   "metadata": {},
   "outputs": [
    {
     "data": {
      "text/html": [
       "<div>\n",
       "<style scoped>\n",
       "    .dataframe tbody tr th:only-of-type {\n",
       "        vertical-align: middle;\n",
       "    }\n",
       "\n",
       "    .dataframe tbody tr th {\n",
       "        vertical-align: top;\n",
       "    }\n",
       "\n",
       "    .dataframe thead th {\n",
       "        text-align: right;\n",
       "    }\n",
       "</style>\n",
       "<table border=\"1\" class=\"dataframe\">\n",
       "  <thead>\n",
       "    <tr style=\"text-align: right;\">\n",
       "      <th></th>\n",
       "      <th>imonth</th>\n",
       "      <th>iday</th>\n",
       "      <th>country</th>\n",
       "      <th>country_txt</th>\n",
       "      <th>region</th>\n",
       "      <th>region_txt</th>\n",
       "      <th>provstate</th>\n",
       "      <th>city</th>\n",
       "      <th>latitude</th>\n",
       "      <th>longitude</th>\n",
       "      <th>...</th>\n",
       "      <th>attacktype1_txt</th>\n",
       "      <th>targtype1</th>\n",
       "      <th>targtype1_txt</th>\n",
       "      <th>targsubtype1</th>\n",
       "      <th>targsubtype1_txt</th>\n",
       "      <th>target1</th>\n",
       "      <th>gname</th>\n",
       "      <th>weaptype1</th>\n",
       "      <th>weapsubtype1</th>\n",
       "      <th>nkill</th>\n",
       "    </tr>\n",
       "  </thead>\n",
       "  <tbody>\n",
       "    <tr>\n",
       "      <th>0</th>\n",
       "      <td>7</td>\n",
       "      <td>2</td>\n",
       "      <td>46</td>\n",
       "      <td>47</td>\n",
       "      <td>1</td>\n",
       "      <td>1</td>\n",
       "      <td>2855</td>\n",
       "      <td>29806</td>\n",
       "      <td>19583</td>\n",
       "      <td>5578</td>\n",
       "      <td>...</td>\n",
       "      <td>1</td>\n",
       "      <td>13</td>\n",
       "      <td>13</td>\n",
       "      <td>66</td>\n",
       "      <td>59</td>\n",
       "      <td>40137</td>\n",
       "      <td>1907</td>\n",
       "      <td>11</td>\n",
       "      <td>30</td>\n",
       "      <td>1</td>\n",
       "    </tr>\n",
       "    <tr>\n",
       "      <th>1</th>\n",
       "      <td>0</td>\n",
       "      <td>0</td>\n",
       "      <td>111</td>\n",
       "      <td>116</td>\n",
       "      <td>0</td>\n",
       "      <td>6</td>\n",
       "      <td>782</td>\n",
       "      <td>22166</td>\n",
       "      <td>20138</td>\n",
       "      <td>471</td>\n",
       "      <td>...</td>\n",
       "      <td>6</td>\n",
       "      <td>6</td>\n",
       "      <td>5</td>\n",
       "      <td>43</td>\n",
       "      <td>15</td>\n",
       "      <td>48243</td>\n",
       "      <td>13</td>\n",
       "      <td>11</td>\n",
       "      <td>30</td>\n",
       "      <td>0</td>\n",
       "    </tr>\n",
       "    <tr>\n",
       "      <th>2</th>\n",
       "      <td>1</td>\n",
       "      <td>0</td>\n",
       "      <td>132</td>\n",
       "      <td>140</td>\n",
       "      <td>4</td>\n",
       "      <td>9</td>\n",
       "      <td>2497</td>\n",
       "      <td>34517</td>\n",
       "      <td>17959</td>\n",
       "      <td>43938</td>\n",
       "      <td>...</td>\n",
       "      <td>1</td>\n",
       "      <td>9</td>\n",
       "      <td>7</td>\n",
       "      <td>52</td>\n",
       "      <td>87</td>\n",
       "      <td>27324</td>\n",
       "      <td>3408</td>\n",
       "      <td>11</td>\n",
       "      <td>30</td>\n",
       "      <td>1</td>\n",
       "    </tr>\n",
       "    <tr>\n",
       "      <th>3</th>\n",
       "      <td>1</td>\n",
       "      <td>0</td>\n",
       "      <td>65</td>\n",
       "      <td>68</td>\n",
       "      <td>7</td>\n",
       "      <td>11</td>\n",
       "      <td>184</td>\n",
       "      <td>2513</td>\n",
       "      <td>42689</td>\n",
       "      <td>13789</td>\n",
       "      <td>...</td>\n",
       "      <td>2</td>\n",
       "      <td>6</td>\n",
       "      <td>5</td>\n",
       "      <td>44</td>\n",
       "      <td>19</td>\n",
       "      <td>75371</td>\n",
       "      <td>3408</td>\n",
       "      <td>4</td>\n",
       "      <td>15</td>\n",
       "      <td>205</td>\n",
       "    </tr>\n",
       "    <tr>\n",
       "      <th>4</th>\n",
       "      <td>1</td>\n",
       "      <td>0</td>\n",
       "      <td>86</td>\n",
       "      <td>90</td>\n",
       "      <td>3</td>\n",
       "      <td>3</td>\n",
       "      <td>808</td>\n",
       "      <td>11264</td>\n",
       "      <td>32934</td>\n",
       "      <td>47772</td>\n",
       "      <td>...</td>\n",
       "      <td>3</td>\n",
       "      <td>6</td>\n",
       "      <td>5</td>\n",
       "      <td>44</td>\n",
       "      <td>19</td>\n",
       "      <td>75350</td>\n",
       "      <td>3408</td>\n",
       "      <td>6</td>\n",
       "      <td>30</td>\n",
       "      <td>205</td>\n",
       "    </tr>\n",
       "    <tr>\n",
       "      <th>...</th>\n",
       "      <td>...</td>\n",
       "      <td>...</td>\n",
       "      <td>...</td>\n",
       "      <td>...</td>\n",
       "      <td>...</td>\n",
       "      <td>...</td>\n",
       "      <td>...</td>\n",
       "      <td>...</td>\n",
       "      <td>...</td>\n",
       "      <td>...</td>\n",
       "      <td>...</td>\n",
       "      <td>...</td>\n",
       "      <td>...</td>\n",
       "      <td>...</td>\n",
       "      <td>...</td>\n",
       "      <td>...</td>\n",
       "      <td>...</td>\n",
       "      <td>...</td>\n",
       "      <td>...</td>\n",
       "      <td>...</td>\n",
       "      <td>...</td>\n",
       "    </tr>\n",
       "    <tr>\n",
       "      <th>181686</th>\n",
       "      <td>12</td>\n",
       "      <td>31</td>\n",
       "      <td>148</td>\n",
       "      <td>159</td>\n",
       "      <td>10</td>\n",
       "      <td>10</td>\n",
       "      <td>1601</td>\n",
       "      <td>6849</td>\n",
       "      <td>4298</td>\n",
       "      <td>24729</td>\n",
       "      <td>...</td>\n",
       "      <td>0</td>\n",
       "      <td>3</td>\n",
       "      <td>9</td>\n",
       "      <td>35</td>\n",
       "      <td>47</td>\n",
       "      <td>17472</td>\n",
       "      <td>177</td>\n",
       "      <td>3</td>\n",
       "      <td>4</td>\n",
       "      <td>1</td>\n",
       "    </tr>\n",
       "    <tr>\n",
       "      <th>181687</th>\n",
       "      <td>12</td>\n",
       "      <td>31</td>\n",
       "      <td>160</td>\n",
       "      <td>175</td>\n",
       "      <td>9</td>\n",
       "      <td>5</td>\n",
       "      <td>1371</td>\n",
       "      <td>14575</td>\n",
       "      <td>38657</td>\n",
       "      <td>18356</td>\n",
       "      <td>...</td>\n",
       "      <td>2</td>\n",
       "      <td>3</td>\n",
       "      <td>9</td>\n",
       "      <td>26</td>\n",
       "      <td>46</td>\n",
       "      <td>34191</td>\n",
       "      <td>2138</td>\n",
       "      <td>4</td>\n",
       "      <td>10</td>\n",
       "      <td>2</td>\n",
       "    </tr>\n",
       "    <tr>\n",
       "      <th>181688</th>\n",
       "      <td>12</td>\n",
       "      <td>31</td>\n",
       "      <td>132</td>\n",
       "      <td>140</td>\n",
       "      <td>4</td>\n",
       "      <td>9</td>\n",
       "      <td>1479</td>\n",
       "      <td>18159</td>\n",
       "      <td>8621</td>\n",
       "      <td>46094</td>\n",
       "      <td>...</td>\n",
       "      <td>3</td>\n",
       "      <td>13</td>\n",
       "      <td>13</td>\n",
       "      <td>74</td>\n",
       "      <td>32</td>\n",
       "      <td>35372</td>\n",
       "      <td>601</td>\n",
       "      <td>6</td>\n",
       "      <td>17</td>\n",
       "      <td>0</td>\n",
       "    </tr>\n",
       "    <tr>\n",
       "      <th>181689</th>\n",
       "      <td>12</td>\n",
       "      <td>31</td>\n",
       "      <td>77</td>\n",
       "      <td>80</td>\n",
       "      <td>5</td>\n",
       "      <td>8</td>\n",
       "      <td>1510</td>\n",
       "      <td>14206</td>\n",
       "      <td>22835</td>\n",
       "      <td>41471</td>\n",
       "      <td>...</td>\n",
       "      <td>2</td>\n",
       "      <td>1</td>\n",
       "      <td>6</td>\n",
       "      <td>20</td>\n",
       "      <td>27</td>\n",
       "      <td>49588</td>\n",
       "      <td>3408</td>\n",
       "      <td>4</td>\n",
       "      <td>6</td>\n",
       "      <td>0</td>\n",
       "    </tr>\n",
       "    <tr>\n",
       "      <th>181690</th>\n",
       "      <td>12</td>\n",
       "      <td>31</td>\n",
       "      <td>132</td>\n",
       "      <td>140</td>\n",
       "      <td>4</td>\n",
       "      <td>9</td>\n",
       "      <td>1479</td>\n",
       "      <td>8185</td>\n",
       "      <td>9499</td>\n",
       "      <td>45851</td>\n",
       "      <td>...</td>\n",
       "      <td>2</td>\n",
       "      <td>19</td>\n",
       "      <td>19</td>\n",
       "      <td>112</td>\n",
       "      <td>112</td>\n",
       "      <td>76741</td>\n",
       "      <td>3408</td>\n",
       "      <td>4</td>\n",
       "      <td>15</td>\n",
       "      <td>0</td>\n",
       "    </tr>\n",
       "  </tbody>\n",
       "</table>\n",
       "<p>170624 rows × 24 columns</p>\n",
       "</div>"
      ],
      "text/plain": [
       "        imonth  iday  country  country_txt  region  region_txt  provstate  \\\n",
       "0            7     2       46           47       1           1       2855   \n",
       "1            0     0      111          116       0           6        782   \n",
       "2            1     0      132          140       4           9       2497   \n",
       "3            1     0       65           68       7          11        184   \n",
       "4            1     0       86           90       3           3        808   \n",
       "...        ...   ...      ...          ...     ...         ...        ...   \n",
       "181686      12    31      148          159      10          10       1601   \n",
       "181687      12    31      160          175       9           5       1371   \n",
       "181688      12    31      132          140       4           9       1479   \n",
       "181689      12    31       77           80       5           8       1510   \n",
       "181690      12    31      132          140       4           9       1479   \n",
       "\n",
       "         city  latitude  longitude  ...  attacktype1_txt  targtype1  \\\n",
       "0       29806     19583       5578  ...                1         13   \n",
       "1       22166     20138        471  ...                6          6   \n",
       "2       34517     17959      43938  ...                1          9   \n",
       "3        2513     42689      13789  ...                2          6   \n",
       "4       11264     32934      47772  ...                3          6   \n",
       "...       ...       ...        ...  ...              ...        ...   \n",
       "181686   6849      4298      24729  ...                0          3   \n",
       "181687  14575     38657      18356  ...                2          3   \n",
       "181688  18159      8621      46094  ...                3         13   \n",
       "181689  14206     22835      41471  ...                2          1   \n",
       "181690   8185      9499      45851  ...                2         19   \n",
       "\n",
       "        targtype1_txt  targsubtype1  targsubtype1_txt  target1  gname  \\\n",
       "0                  13            66                59    40137   1907   \n",
       "1                   5            43                15    48243     13   \n",
       "2                   7            52                87    27324   3408   \n",
       "3                   5            44                19    75371   3408   \n",
       "4                   5            44                19    75350   3408   \n",
       "...               ...           ...               ...      ...    ...   \n",
       "181686              9            35                47    17472    177   \n",
       "181687              9            26                46    34191   2138   \n",
       "181688             13            74                32    35372    601   \n",
       "181689              6            20                27    49588   3408   \n",
       "181690             19           112               112    76741   3408   \n",
       "\n",
       "        weaptype1  weapsubtype1  nkill  \n",
       "0              11            30      1  \n",
       "1              11            30      0  \n",
       "2              11            30      1  \n",
       "3               4            15    205  \n",
       "4               6            30    205  \n",
       "...           ...           ...    ...  \n",
       "181686          3             4      1  \n",
       "181687          4            10      2  \n",
       "181688          6            17      0  \n",
       "181689          4             6      0  \n",
       "181690          4            15      0  \n",
       "\n",
       "[170624 rows x 24 columns]"
      ]
     },
     "metadata": {},
     "output_type": "display_data"
    }
   ],
   "source": [
    "df2 = pd.DataFrame(data = df1)\n",
    "display(df1)\n",
    "df2 = df2.loc[:,['imonth', 'iday', 'country', 'country_txt', 'region', 'region_txt', 'provstate', 'city', 'latitude', 'longitude', 'multiple', 'success', 'suicide', 'attacktype1', 'attacktype1_txt', 'targtype1', 'targtype1_txt', 'targsubtype1', 'targsubtype1_txt', 'target1', 'weaptype1', 'weapsubtype1', 'nkill','gname']]\n",
    "df1 = df2.copy()  "
   ]
  },
  {
   "cell_type": "code",
   "execution_count": 25,
   "id": "66a1d023",
   "metadata": {},
   "outputs": [
    {
     "name": "stdout",
     "output_type": "stream",
     "text": [
      "['eventid', 'iyear', 'imonth', 'iday', 'country', 'country_txt', 'region', 'region_txt', 'provstate', 'city', 'latitude', 'longitude', 'vicinity', 'location', 'summary', 'multiple', 'success', 'suicide', 'attacktype1', 'attacktype1_txt', 'attacktype2_txt', 'attacktype3', 'attacktype3_txt', 'targtype1', 'targtype1_txt', 'targsubtype1', 'targsubtype1_txt', 'target1', 'targtype2', 'targtype2_txt', 'targsubtype2', 'targsubtype2_txt', 'gname', 'weaptype1', 'weapsubtype1', 'nkill', 'property', 'propextent', 'propextent_txt', 'ransom', 'ransomamt']\n"
     ]
    }
   ],
   "source": [
    "print(column_names41)"
   ]
  },
  {
   "cell_type": "code",
   "execution_count": 26,
   "id": "ae244c4e",
   "metadata": {},
   "outputs": [],
   "source": [
    "df41 = df41.loc[:,['eventid', 'iyear', 'imonth', 'iday', 'country', 'country_txt', 'region', 'region_txt', 'provstate', 'city', 'latitude', 'longitude', 'vicinity', 'location', 'summary', 'multiple', 'success', 'suicide', 'attacktype1', 'attacktype1_txt', 'attacktype2_txt', 'attacktype3', 'attacktype3_txt', 'targtype1', 'targtype1_txt', 'targsubtype1', 'targsubtype1_txt', 'target1', 'targtype2', 'targtype2_txt', 'targsubtype2', 'targsubtype2_txt','weaptype1', 'weapsubtype1', 'nkill', 'property', 'propextent', 'propextent_txt', 'ransom', 'ransomamt', 'gname']]\n",
    " "
   ]
  },
  {
   "cell_type": "code",
   "execution_count": 27,
   "id": "75613f11",
   "metadata": {},
   "outputs": [
    {
     "data": {
      "text/html": [
       "<div>\n",
       "<style scoped>\n",
       "    .dataframe tbody tr th:only-of-type {\n",
       "        vertical-align: middle;\n",
       "    }\n",
       "\n",
       "    .dataframe tbody tr th {\n",
       "        vertical-align: top;\n",
       "    }\n",
       "\n",
       "    .dataframe thead th {\n",
       "        text-align: right;\n",
       "    }\n",
       "</style>\n",
       "<table border=\"1\" class=\"dataframe\">\n",
       "  <thead>\n",
       "    <tr style=\"text-align: right;\">\n",
       "      <th></th>\n",
       "      <th>imonth</th>\n",
       "      <th>iday</th>\n",
       "      <th>country</th>\n",
       "      <th>country_txt</th>\n",
       "      <th>region</th>\n",
       "      <th>region_txt</th>\n",
       "      <th>provstate</th>\n",
       "      <th>city</th>\n",
       "      <th>latitude</th>\n",
       "      <th>longitude</th>\n",
       "      <th>...</th>\n",
       "      <th>attacktype1_txt</th>\n",
       "      <th>targtype1</th>\n",
       "      <th>targtype1_txt</th>\n",
       "      <th>targsubtype1</th>\n",
       "      <th>targsubtype1_txt</th>\n",
       "      <th>target1</th>\n",
       "      <th>weaptype1</th>\n",
       "      <th>weapsubtype1</th>\n",
       "      <th>nkill</th>\n",
       "      <th>gname</th>\n",
       "    </tr>\n",
       "  </thead>\n",
       "  <tbody>\n",
       "    <tr>\n",
       "      <th>0</th>\n",
       "      <td>7</td>\n",
       "      <td>2</td>\n",
       "      <td>46</td>\n",
       "      <td>47</td>\n",
       "      <td>1</td>\n",
       "      <td>1</td>\n",
       "      <td>2855</td>\n",
       "      <td>29806</td>\n",
       "      <td>19583</td>\n",
       "      <td>5578</td>\n",
       "      <td>...</td>\n",
       "      <td>1</td>\n",
       "      <td>13</td>\n",
       "      <td>13</td>\n",
       "      <td>66</td>\n",
       "      <td>59</td>\n",
       "      <td>40137</td>\n",
       "      <td>11</td>\n",
       "      <td>30</td>\n",
       "      <td>1</td>\n",
       "      <td>1907</td>\n",
       "    </tr>\n",
       "    <tr>\n",
       "      <th>1</th>\n",
       "      <td>0</td>\n",
       "      <td>0</td>\n",
       "      <td>111</td>\n",
       "      <td>116</td>\n",
       "      <td>0</td>\n",
       "      <td>6</td>\n",
       "      <td>782</td>\n",
       "      <td>22166</td>\n",
       "      <td>20138</td>\n",
       "      <td>471</td>\n",
       "      <td>...</td>\n",
       "      <td>6</td>\n",
       "      <td>6</td>\n",
       "      <td>5</td>\n",
       "      <td>43</td>\n",
       "      <td>15</td>\n",
       "      <td>48243</td>\n",
       "      <td>11</td>\n",
       "      <td>30</td>\n",
       "      <td>0</td>\n",
       "      <td>13</td>\n",
       "    </tr>\n",
       "    <tr>\n",
       "      <th>2</th>\n",
       "      <td>1</td>\n",
       "      <td>0</td>\n",
       "      <td>132</td>\n",
       "      <td>140</td>\n",
       "      <td>4</td>\n",
       "      <td>9</td>\n",
       "      <td>2497</td>\n",
       "      <td>34517</td>\n",
       "      <td>17959</td>\n",
       "      <td>43938</td>\n",
       "      <td>...</td>\n",
       "      <td>1</td>\n",
       "      <td>9</td>\n",
       "      <td>7</td>\n",
       "      <td>52</td>\n",
       "      <td>87</td>\n",
       "      <td>27324</td>\n",
       "      <td>11</td>\n",
       "      <td>30</td>\n",
       "      <td>1</td>\n",
       "      <td>3408</td>\n",
       "    </tr>\n",
       "    <tr>\n",
       "      <th>3</th>\n",
       "      <td>1</td>\n",
       "      <td>0</td>\n",
       "      <td>65</td>\n",
       "      <td>68</td>\n",
       "      <td>7</td>\n",
       "      <td>11</td>\n",
       "      <td>184</td>\n",
       "      <td>2513</td>\n",
       "      <td>42689</td>\n",
       "      <td>13789</td>\n",
       "      <td>...</td>\n",
       "      <td>2</td>\n",
       "      <td>6</td>\n",
       "      <td>5</td>\n",
       "      <td>44</td>\n",
       "      <td>19</td>\n",
       "      <td>75371</td>\n",
       "      <td>4</td>\n",
       "      <td>15</td>\n",
       "      <td>205</td>\n",
       "      <td>3408</td>\n",
       "    </tr>\n",
       "    <tr>\n",
       "      <th>4</th>\n",
       "      <td>1</td>\n",
       "      <td>0</td>\n",
       "      <td>86</td>\n",
       "      <td>90</td>\n",
       "      <td>3</td>\n",
       "      <td>3</td>\n",
       "      <td>808</td>\n",
       "      <td>11264</td>\n",
       "      <td>32934</td>\n",
       "      <td>47772</td>\n",
       "      <td>...</td>\n",
       "      <td>3</td>\n",
       "      <td>6</td>\n",
       "      <td>5</td>\n",
       "      <td>44</td>\n",
       "      <td>19</td>\n",
       "      <td>75350</td>\n",
       "      <td>6</td>\n",
       "      <td>30</td>\n",
       "      <td>205</td>\n",
       "      <td>3408</td>\n",
       "    </tr>\n",
       "  </tbody>\n",
       "</table>\n",
       "<p>5 rows × 24 columns</p>\n",
       "</div>"
      ],
      "text/plain": [
       "   imonth  iday  country  country_txt  region  region_txt  provstate   city  \\\n",
       "0       7     2       46           47       1           1       2855  29806   \n",
       "1       0     0      111          116       0           6        782  22166   \n",
       "2       1     0      132          140       4           9       2497  34517   \n",
       "3       1     0       65           68       7          11        184   2513   \n",
       "4       1     0       86           90       3           3        808  11264   \n",
       "\n",
       "   latitude  longitude  ...  attacktype1_txt  targtype1  targtype1_txt  \\\n",
       "0     19583       5578  ...                1         13             13   \n",
       "1     20138        471  ...                6          6              5   \n",
       "2     17959      43938  ...                1          9              7   \n",
       "3     42689      13789  ...                2          6              5   \n",
       "4     32934      47772  ...                3          6              5   \n",
       "\n",
       "   targsubtype1  targsubtype1_txt  target1  weaptype1  weapsubtype1  nkill  \\\n",
       "0            66                59    40137         11            30      1   \n",
       "1            43                15    48243         11            30      0   \n",
       "2            52                87    27324         11            30      1   \n",
       "3            44                19    75371          4            15    205   \n",
       "4            44                19    75350          6            30    205   \n",
       "\n",
       "   gname  \n",
       "0   1907  \n",
       "1     13  \n",
       "2   3408  \n",
       "3   3408  \n",
       "4   3408  \n",
       "\n",
       "[5 rows x 24 columns]"
      ]
     },
     "execution_count": 27,
     "metadata": {},
     "output_type": "execute_result"
    }
   ],
   "source": [
    "df2.head()"
   ]
  },
  {
   "cell_type": "code",
   "execution_count": 28,
   "id": "d8740185",
   "metadata": {},
   "outputs": [
    {
     "data": {
      "text/html": [
       "<div>\n",
       "<style scoped>\n",
       "    .dataframe tbody tr th:only-of-type {\n",
       "        vertical-align: middle;\n",
       "    }\n",
       "\n",
       "    .dataframe tbody tr th {\n",
       "        vertical-align: top;\n",
       "    }\n",
       "\n",
       "    .dataframe thead th {\n",
       "        text-align: right;\n",
       "    }\n",
       "</style>\n",
       "<table border=\"1\" class=\"dataframe\">\n",
       "  <thead>\n",
       "    <tr style=\"text-align: right;\">\n",
       "      <th></th>\n",
       "      <th>imonth</th>\n",
       "      <th>iday</th>\n",
       "      <th>country</th>\n",
       "      <th>region</th>\n",
       "      <th>provstate</th>\n",
       "      <th>city</th>\n",
       "      <th>latitude</th>\n",
       "      <th>longitude</th>\n",
       "      <th>attacktype1</th>\n",
       "      <th>targtype1</th>\n",
       "      <th>targsubtype1</th>\n",
       "      <th>target1</th>\n",
       "      <th>weaptype1</th>\n",
       "      <th>weapsubtype1</th>\n",
       "      <th>nkill</th>\n",
       "      <th>gname</th>\n",
       "    </tr>\n",
       "  </thead>\n",
       "  <tbody>\n",
       "    <tr>\n",
       "      <th>0</th>\n",
       "      <td>7</td>\n",
       "      <td>2</td>\n",
       "      <td>46</td>\n",
       "      <td>1</td>\n",
       "      <td>2855</td>\n",
       "      <td>29806</td>\n",
       "      <td>19583</td>\n",
       "      <td>5578</td>\n",
       "      <td>0</td>\n",
       "      <td>13</td>\n",
       "      <td>66</td>\n",
       "      <td>40137</td>\n",
       "      <td>11</td>\n",
       "      <td>30</td>\n",
       "      <td>1</td>\n",
       "      <td>1907</td>\n",
       "    </tr>\n",
       "    <tr>\n",
       "      <th>1</th>\n",
       "      <td>0</td>\n",
       "      <td>0</td>\n",
       "      <td>111</td>\n",
       "      <td>0</td>\n",
       "      <td>782</td>\n",
       "      <td>22166</td>\n",
       "      <td>20138</td>\n",
       "      <td>471</td>\n",
       "      <td>5</td>\n",
       "      <td>6</td>\n",
       "      <td>43</td>\n",
       "      <td>48243</td>\n",
       "      <td>11</td>\n",
       "      <td>30</td>\n",
       "      <td>0</td>\n",
       "      <td>13</td>\n",
       "    </tr>\n",
       "    <tr>\n",
       "      <th>2</th>\n",
       "      <td>1</td>\n",
       "      <td>0</td>\n",
       "      <td>132</td>\n",
       "      <td>4</td>\n",
       "      <td>2497</td>\n",
       "      <td>34517</td>\n",
       "      <td>17959</td>\n",
       "      <td>43938</td>\n",
       "      <td>0</td>\n",
       "      <td>9</td>\n",
       "      <td>52</td>\n",
       "      <td>27324</td>\n",
       "      <td>11</td>\n",
       "      <td>30</td>\n",
       "      <td>1</td>\n",
       "      <td>3408</td>\n",
       "    </tr>\n",
       "    <tr>\n",
       "      <th>3</th>\n",
       "      <td>1</td>\n",
       "      <td>0</td>\n",
       "      <td>65</td>\n",
       "      <td>7</td>\n",
       "      <td>184</td>\n",
       "      <td>2513</td>\n",
       "      <td>42689</td>\n",
       "      <td>13789</td>\n",
       "      <td>2</td>\n",
       "      <td>6</td>\n",
       "      <td>44</td>\n",
       "      <td>75371</td>\n",
       "      <td>4</td>\n",
       "      <td>15</td>\n",
       "      <td>205</td>\n",
       "      <td>3408</td>\n",
       "    </tr>\n",
       "    <tr>\n",
       "      <th>4</th>\n",
       "      <td>1</td>\n",
       "      <td>0</td>\n",
       "      <td>86</td>\n",
       "      <td>3</td>\n",
       "      <td>808</td>\n",
       "      <td>11264</td>\n",
       "      <td>32934</td>\n",
       "      <td>47772</td>\n",
       "      <td>6</td>\n",
       "      <td>6</td>\n",
       "      <td>44</td>\n",
       "      <td>75350</td>\n",
       "      <td>6</td>\n",
       "      <td>30</td>\n",
       "      <td>205</td>\n",
       "      <td>3408</td>\n",
       "    </tr>\n",
       "  </tbody>\n",
       "</table>\n",
       "</div>"
      ],
      "text/plain": [
       "   imonth  iday  country  region  provstate   city  latitude  longitude  \\\n",
       "0       7     2       46       1       2855  29806     19583       5578   \n",
       "1       0     0      111       0        782  22166     20138        471   \n",
       "2       1     0      132       4       2497  34517     17959      43938   \n",
       "3       1     0       65       7        184   2513     42689      13789   \n",
       "4       1     0       86       3        808  11264     32934      47772   \n",
       "\n",
       "   attacktype1  targtype1  targsubtype1  target1  weaptype1  weapsubtype1  \\\n",
       "0            0         13            66    40137         11            30   \n",
       "1            5          6            43    48243         11            30   \n",
       "2            0          9            52    27324         11            30   \n",
       "3            2          6            44    75371          4            15   \n",
       "4            6          6            44    75350          6            30   \n",
       "\n",
       "   nkill  gname  \n",
       "0      1   1907  \n",
       "1      0     13  \n",
       "2      1   3408  \n",
       "3    205   3408  \n",
       "4    205   3408  "
      ]
     },
     "execution_count": 28,
     "metadata": {},
     "output_type": "execute_result"
    }
   ],
   "source": [
    "df2.drop(['country_txt', 'region_txt', 'multiple', 'success', 'suicide',  'attacktype1_txt',  'targtype1_txt',  'targsubtype1_txt'], axis = 1, inplace = True)\n",
    "df2.head()"
   ]
  },
  {
   "cell_type": "code",
   "execution_count": 29,
   "id": "608b2b91",
   "metadata": {},
   "outputs": [
    {
     "data": {
      "text/html": [
       "<div>\n",
       "<style scoped>\n",
       "    .dataframe tbody tr th:only-of-type {\n",
       "        vertical-align: middle;\n",
       "    }\n",
       "\n",
       "    .dataframe tbody tr th {\n",
       "        vertical-align: top;\n",
       "    }\n",
       "\n",
       "    .dataframe thead th {\n",
       "        text-align: right;\n",
       "    }\n",
       "</style>\n",
       "<table border=\"1\" class=\"dataframe\">\n",
       "  <thead>\n",
       "    <tr style=\"text-align: right;\">\n",
       "      <th></th>\n",
       "      <th>eventid</th>\n",
       "      <th>iyear</th>\n",
       "      <th>imonth</th>\n",
       "      <th>iday</th>\n",
       "      <th>country</th>\n",
       "      <th>country_txt</th>\n",
       "      <th>region</th>\n",
       "      <th>region_txt</th>\n",
       "      <th>provstate</th>\n",
       "      <th>city</th>\n",
       "      <th>...</th>\n",
       "      <th>targsubtype2_txt</th>\n",
       "      <th>weaptype1</th>\n",
       "      <th>weapsubtype1</th>\n",
       "      <th>nkill</th>\n",
       "      <th>property</th>\n",
       "      <th>propextent</th>\n",
       "      <th>propextent_txt</th>\n",
       "      <th>ransom</th>\n",
       "      <th>ransomamt</th>\n",
       "      <th>gname</th>\n",
       "    </tr>\n",
       "  </thead>\n",
       "  <tbody>\n",
       "    <tr>\n",
       "      <th>0</th>\n",
       "      <td>0</td>\n",
       "      <td>0</td>\n",
       "      <td>7</td>\n",
       "      <td>2</td>\n",
       "      <td>46</td>\n",
       "      <td>47</td>\n",
       "      <td>1</td>\n",
       "      <td>1</td>\n",
       "      <td>2855</td>\n",
       "      <td>29806</td>\n",
       "      <td>...</td>\n",
       "      <td>107</td>\n",
       "      <td>11</td>\n",
       "      <td>30</td>\n",
       "      <td>1</td>\n",
       "      <td>1</td>\n",
       "      <td>4</td>\n",
       "      <td>4</td>\n",
       "      <td>1</td>\n",
       "      <td>429</td>\n",
       "      <td>1907</td>\n",
       "    </tr>\n",
       "    <tr>\n",
       "      <th>1</th>\n",
       "      <td>1</td>\n",
       "      <td>0</td>\n",
       "      <td>0</td>\n",
       "      <td>0</td>\n",
       "      <td>111</td>\n",
       "      <td>116</td>\n",
       "      <td>0</td>\n",
       "      <td>6</td>\n",
       "      <td>782</td>\n",
       "      <td>22166</td>\n",
       "      <td>...</td>\n",
       "      <td>107</td>\n",
       "      <td>11</td>\n",
       "      <td>30</td>\n",
       "      <td>0</td>\n",
       "      <td>1</td>\n",
       "      <td>4</td>\n",
       "      <td>4</td>\n",
       "      <td>2</td>\n",
       "      <td>324</td>\n",
       "      <td>13</td>\n",
       "    </tr>\n",
       "    <tr>\n",
       "      <th>2</th>\n",
       "      <td>2</td>\n",
       "      <td>0</td>\n",
       "      <td>1</td>\n",
       "      <td>0</td>\n",
       "      <td>132</td>\n",
       "      <td>140</td>\n",
       "      <td>4</td>\n",
       "      <td>9</td>\n",
       "      <td>2497</td>\n",
       "      <td>34517</td>\n",
       "      <td>...</td>\n",
       "      <td>107</td>\n",
       "      <td>11</td>\n",
       "      <td>30</td>\n",
       "      <td>1</td>\n",
       "      <td>1</td>\n",
       "      <td>4</td>\n",
       "      <td>4</td>\n",
       "      <td>1</td>\n",
       "      <td>429</td>\n",
       "      <td>3408</td>\n",
       "    </tr>\n",
       "    <tr>\n",
       "      <th>3</th>\n",
       "      <td>3</td>\n",
       "      <td>0</td>\n",
       "      <td>1</td>\n",
       "      <td>0</td>\n",
       "      <td>65</td>\n",
       "      <td>68</td>\n",
       "      <td>7</td>\n",
       "      <td>11</td>\n",
       "      <td>184</td>\n",
       "      <td>2513</td>\n",
       "      <td>...</td>\n",
       "      <td>107</td>\n",
       "      <td>4</td>\n",
       "      <td>15</td>\n",
       "      <td>205</td>\n",
       "      <td>2</td>\n",
       "      <td>4</td>\n",
       "      <td>4</td>\n",
       "      <td>1</td>\n",
       "      <td>429</td>\n",
       "      <td>3408</td>\n",
       "    </tr>\n",
       "    <tr>\n",
       "      <th>4</th>\n",
       "      <td>4</td>\n",
       "      <td>0</td>\n",
       "      <td>1</td>\n",
       "      <td>0</td>\n",
       "      <td>86</td>\n",
       "      <td>90</td>\n",
       "      <td>3</td>\n",
       "      <td>3</td>\n",
       "      <td>808</td>\n",
       "      <td>11264</td>\n",
       "      <td>...</td>\n",
       "      <td>107</td>\n",
       "      <td>6</td>\n",
       "      <td>30</td>\n",
       "      <td>205</td>\n",
       "      <td>2</td>\n",
       "      <td>4</td>\n",
       "      <td>4</td>\n",
       "      <td>1</td>\n",
       "      <td>429</td>\n",
       "      <td>3408</td>\n",
       "    </tr>\n",
       "  </tbody>\n",
       "</table>\n",
       "<p>5 rows × 41 columns</p>\n",
       "</div>"
      ],
      "text/plain": [
       "   eventid  iyear  imonth  iday  country  country_txt  region  region_txt  \\\n",
       "0        0      0       7     2       46           47       1           1   \n",
       "1        1      0       0     0      111          116       0           6   \n",
       "2        2      0       1     0      132          140       4           9   \n",
       "3        3      0       1     0       65           68       7          11   \n",
       "4        4      0       1     0       86           90       3           3   \n",
       "\n",
       "   provstate   city  ...  targsubtype2_txt  weaptype1  weapsubtype1  nkill  \\\n",
       "0       2855  29806  ...               107         11            30      1   \n",
       "1        782  22166  ...               107         11            30      0   \n",
       "2       2497  34517  ...               107         11            30      1   \n",
       "3        184   2513  ...               107          4            15    205   \n",
       "4        808  11264  ...               107          6            30    205   \n",
       "\n",
       "   property  propextent  propextent_txt  ransom  ransomamt  gname  \n",
       "0         1           4               4       1        429   1907  \n",
       "1         1           4               4       2        324     13  \n",
       "2         1           4               4       1        429   3408  \n",
       "3         2           4               4       1        429   3408  \n",
       "4         2           4               4       1        429   3408  \n",
       "\n",
       "[5 rows x 41 columns]"
      ]
     },
     "execution_count": 29,
     "metadata": {},
     "output_type": "execute_result"
    }
   ],
   "source": [
    "df41.head()"
   ]
  },
  {
   "cell_type": "code",
   "execution_count": 30,
   "id": "669febea",
   "metadata": {},
   "outputs": [
    {
     "data": {
      "text/html": [
       "<div>\n",
       "<style scoped>\n",
       "    .dataframe tbody tr th:only-of-type {\n",
       "        vertical-align: middle;\n",
       "    }\n",
       "\n",
       "    .dataframe tbody tr th {\n",
       "        vertical-align: top;\n",
       "    }\n",
       "\n",
       "    .dataframe thead th {\n",
       "        text-align: right;\n",
       "    }\n",
       "</style>\n",
       "<table border=\"1\" class=\"dataframe\">\n",
       "  <thead>\n",
       "    <tr style=\"text-align: right;\">\n",
       "      <th></th>\n",
       "      <th>imonth</th>\n",
       "      <th>iday</th>\n",
       "      <th>country</th>\n",
       "      <th>country_txt</th>\n",
       "      <th>region</th>\n",
       "      <th>region_txt</th>\n",
       "      <th>provstate</th>\n",
       "      <th>city</th>\n",
       "      <th>latitude</th>\n",
       "      <th>longitude</th>\n",
       "      <th>...</th>\n",
       "      <th>attacktype1_txt</th>\n",
       "      <th>targtype1</th>\n",
       "      <th>targtype1_txt</th>\n",
       "      <th>targsubtype1</th>\n",
       "      <th>targsubtype1_txt</th>\n",
       "      <th>target1</th>\n",
       "      <th>weaptype1</th>\n",
       "      <th>weapsubtype1</th>\n",
       "      <th>nkill</th>\n",
       "      <th>gname</th>\n",
       "    </tr>\n",
       "  </thead>\n",
       "  <tbody>\n",
       "    <tr>\n",
       "      <th>0</th>\n",
       "      <td>7</td>\n",
       "      <td>2</td>\n",
       "      <td>46</td>\n",
       "      <td>47</td>\n",
       "      <td>1</td>\n",
       "      <td>1</td>\n",
       "      <td>2855</td>\n",
       "      <td>29806</td>\n",
       "      <td>19583</td>\n",
       "      <td>5578</td>\n",
       "      <td>...</td>\n",
       "      <td>1</td>\n",
       "      <td>13</td>\n",
       "      <td>13</td>\n",
       "      <td>66</td>\n",
       "      <td>59</td>\n",
       "      <td>40137</td>\n",
       "      <td>11</td>\n",
       "      <td>30</td>\n",
       "      <td>1</td>\n",
       "      <td>1907</td>\n",
       "    </tr>\n",
       "    <tr>\n",
       "      <th>1</th>\n",
       "      <td>0</td>\n",
       "      <td>0</td>\n",
       "      <td>111</td>\n",
       "      <td>116</td>\n",
       "      <td>0</td>\n",
       "      <td>6</td>\n",
       "      <td>782</td>\n",
       "      <td>22166</td>\n",
       "      <td>20138</td>\n",
       "      <td>471</td>\n",
       "      <td>...</td>\n",
       "      <td>6</td>\n",
       "      <td>6</td>\n",
       "      <td>5</td>\n",
       "      <td>43</td>\n",
       "      <td>15</td>\n",
       "      <td>48243</td>\n",
       "      <td>11</td>\n",
       "      <td>30</td>\n",
       "      <td>0</td>\n",
       "      <td>13</td>\n",
       "    </tr>\n",
       "    <tr>\n",
       "      <th>2</th>\n",
       "      <td>1</td>\n",
       "      <td>0</td>\n",
       "      <td>132</td>\n",
       "      <td>140</td>\n",
       "      <td>4</td>\n",
       "      <td>9</td>\n",
       "      <td>2497</td>\n",
       "      <td>34517</td>\n",
       "      <td>17959</td>\n",
       "      <td>43938</td>\n",
       "      <td>...</td>\n",
       "      <td>1</td>\n",
       "      <td>9</td>\n",
       "      <td>7</td>\n",
       "      <td>52</td>\n",
       "      <td>87</td>\n",
       "      <td>27324</td>\n",
       "      <td>11</td>\n",
       "      <td>30</td>\n",
       "      <td>1</td>\n",
       "      <td>3408</td>\n",
       "    </tr>\n",
       "    <tr>\n",
       "      <th>3</th>\n",
       "      <td>1</td>\n",
       "      <td>0</td>\n",
       "      <td>65</td>\n",
       "      <td>68</td>\n",
       "      <td>7</td>\n",
       "      <td>11</td>\n",
       "      <td>184</td>\n",
       "      <td>2513</td>\n",
       "      <td>42689</td>\n",
       "      <td>13789</td>\n",
       "      <td>...</td>\n",
       "      <td>2</td>\n",
       "      <td>6</td>\n",
       "      <td>5</td>\n",
       "      <td>44</td>\n",
       "      <td>19</td>\n",
       "      <td>75371</td>\n",
       "      <td>4</td>\n",
       "      <td>15</td>\n",
       "      <td>205</td>\n",
       "      <td>3408</td>\n",
       "    </tr>\n",
       "    <tr>\n",
       "      <th>4</th>\n",
       "      <td>1</td>\n",
       "      <td>0</td>\n",
       "      <td>86</td>\n",
       "      <td>90</td>\n",
       "      <td>3</td>\n",
       "      <td>3</td>\n",
       "      <td>808</td>\n",
       "      <td>11264</td>\n",
       "      <td>32934</td>\n",
       "      <td>47772</td>\n",
       "      <td>...</td>\n",
       "      <td>3</td>\n",
       "      <td>6</td>\n",
       "      <td>5</td>\n",
       "      <td>44</td>\n",
       "      <td>19</td>\n",
       "      <td>75350</td>\n",
       "      <td>6</td>\n",
       "      <td>30</td>\n",
       "      <td>205</td>\n",
       "      <td>3408</td>\n",
       "    </tr>\n",
       "  </tbody>\n",
       "</table>\n",
       "<p>5 rows × 24 columns</p>\n",
       "</div>"
      ],
      "text/plain": [
       "   imonth  iday  country  country_txt  region  region_txt  provstate   city  \\\n",
       "0       7     2       46           47       1           1       2855  29806   \n",
       "1       0     0      111          116       0           6        782  22166   \n",
       "2       1     0      132          140       4           9       2497  34517   \n",
       "3       1     0       65           68       7          11        184   2513   \n",
       "4       1     0       86           90       3           3        808  11264   \n",
       "\n",
       "   latitude  longitude  ...  attacktype1_txt  targtype1  targtype1_txt  \\\n",
       "0     19583       5578  ...                1         13             13   \n",
       "1     20138        471  ...                6          6              5   \n",
       "2     17959      43938  ...                1          9              7   \n",
       "3     42689      13789  ...                2          6              5   \n",
       "4     32934      47772  ...                3          6              5   \n",
       "\n",
       "   targsubtype1  targsubtype1_txt  target1  weaptype1  weapsubtype1  nkill  \\\n",
       "0            66                59    40137         11            30      1   \n",
       "1            43                15    48243         11            30      0   \n",
       "2            52                87    27324         11            30      1   \n",
       "3            44                19    75371          4            15    205   \n",
       "4            44                19    75350          6            30    205   \n",
       "\n",
       "   gname  \n",
       "0   1907  \n",
       "1     13  \n",
       "2   3408  \n",
       "3   3408  \n",
       "4   3408  \n",
       "\n",
       "[5 rows x 24 columns]"
      ]
     },
     "execution_count": 30,
     "metadata": {},
     "output_type": "execute_result"
    }
   ],
   "source": [
    "df1.head()"
   ]
  },
  {
   "cell_type": "code",
   "execution_count": 31,
   "id": "c36df7a6",
   "metadata": {},
   "outputs": [
    {
     "data": {
      "text/html": [
       "<div>\n",
       "<style scoped>\n",
       "    .dataframe tbody tr th:only-of-type {\n",
       "        vertical-align: middle;\n",
       "    }\n",
       "\n",
       "    .dataframe tbody tr th {\n",
       "        vertical-align: top;\n",
       "    }\n",
       "\n",
       "    .dataframe thead th {\n",
       "        text-align: right;\n",
       "    }\n",
       "</style>\n",
       "<table border=\"1\" class=\"dataframe\">\n",
       "  <thead>\n",
       "    <tr style=\"text-align: right;\">\n",
       "      <th></th>\n",
       "      <th>imonth</th>\n",
       "      <th>iday</th>\n",
       "      <th>country</th>\n",
       "      <th>region</th>\n",
       "      <th>provstate</th>\n",
       "      <th>city</th>\n",
       "      <th>latitude</th>\n",
       "      <th>longitude</th>\n",
       "      <th>attacktype1</th>\n",
       "      <th>targtype1</th>\n",
       "      <th>targsubtype1</th>\n",
       "      <th>target1</th>\n",
       "      <th>weaptype1</th>\n",
       "      <th>weapsubtype1</th>\n",
       "      <th>nkill</th>\n",
       "      <th>gname</th>\n",
       "    </tr>\n",
       "  </thead>\n",
       "  <tbody>\n",
       "    <tr>\n",
       "      <th>0</th>\n",
       "      <td>7</td>\n",
       "      <td>2</td>\n",
       "      <td>46</td>\n",
       "      <td>1</td>\n",
       "      <td>2855</td>\n",
       "      <td>29806</td>\n",
       "      <td>19583</td>\n",
       "      <td>5578</td>\n",
       "      <td>0</td>\n",
       "      <td>13</td>\n",
       "      <td>66</td>\n",
       "      <td>40137</td>\n",
       "      <td>11</td>\n",
       "      <td>30</td>\n",
       "      <td>1</td>\n",
       "      <td>1907</td>\n",
       "    </tr>\n",
       "    <tr>\n",
       "      <th>1</th>\n",
       "      <td>0</td>\n",
       "      <td>0</td>\n",
       "      <td>111</td>\n",
       "      <td>0</td>\n",
       "      <td>782</td>\n",
       "      <td>22166</td>\n",
       "      <td>20138</td>\n",
       "      <td>471</td>\n",
       "      <td>5</td>\n",
       "      <td>6</td>\n",
       "      <td>43</td>\n",
       "      <td>48243</td>\n",
       "      <td>11</td>\n",
       "      <td>30</td>\n",
       "      <td>0</td>\n",
       "      <td>13</td>\n",
       "    </tr>\n",
       "    <tr>\n",
       "      <th>2</th>\n",
       "      <td>1</td>\n",
       "      <td>0</td>\n",
       "      <td>132</td>\n",
       "      <td>4</td>\n",
       "      <td>2497</td>\n",
       "      <td>34517</td>\n",
       "      <td>17959</td>\n",
       "      <td>43938</td>\n",
       "      <td>0</td>\n",
       "      <td>9</td>\n",
       "      <td>52</td>\n",
       "      <td>27324</td>\n",
       "      <td>11</td>\n",
       "      <td>30</td>\n",
       "      <td>1</td>\n",
       "      <td>3408</td>\n",
       "    </tr>\n",
       "    <tr>\n",
       "      <th>3</th>\n",
       "      <td>1</td>\n",
       "      <td>0</td>\n",
       "      <td>65</td>\n",
       "      <td>7</td>\n",
       "      <td>184</td>\n",
       "      <td>2513</td>\n",
       "      <td>42689</td>\n",
       "      <td>13789</td>\n",
       "      <td>2</td>\n",
       "      <td>6</td>\n",
       "      <td>44</td>\n",
       "      <td>75371</td>\n",
       "      <td>4</td>\n",
       "      <td>15</td>\n",
       "      <td>205</td>\n",
       "      <td>3408</td>\n",
       "    </tr>\n",
       "    <tr>\n",
       "      <th>4</th>\n",
       "      <td>1</td>\n",
       "      <td>0</td>\n",
       "      <td>86</td>\n",
       "      <td>3</td>\n",
       "      <td>808</td>\n",
       "      <td>11264</td>\n",
       "      <td>32934</td>\n",
       "      <td>47772</td>\n",
       "      <td>6</td>\n",
       "      <td>6</td>\n",
       "      <td>44</td>\n",
       "      <td>75350</td>\n",
       "      <td>6</td>\n",
       "      <td>30</td>\n",
       "      <td>205</td>\n",
       "      <td>3408</td>\n",
       "    </tr>\n",
       "  </tbody>\n",
       "</table>\n",
       "</div>"
      ],
      "text/plain": [
       "   imonth  iday  country  region  provstate   city  latitude  longitude  \\\n",
       "0       7     2       46       1       2855  29806     19583       5578   \n",
       "1       0     0      111       0        782  22166     20138        471   \n",
       "2       1     0      132       4       2497  34517     17959      43938   \n",
       "3       1     0       65       7        184   2513     42689      13789   \n",
       "4       1     0       86       3        808  11264     32934      47772   \n",
       "\n",
       "   attacktype1  targtype1  targsubtype1  target1  weaptype1  weapsubtype1  \\\n",
       "0            0         13            66    40137         11            30   \n",
       "1            5          6            43    48243         11            30   \n",
       "2            0          9            52    27324         11            30   \n",
       "3            2          6            44    75371          4            15   \n",
       "4            6          6            44    75350          6            30   \n",
       "\n",
       "   nkill  gname  \n",
       "0      1   1907  \n",
       "1      0     13  \n",
       "2      1   3408  \n",
       "3    205   3408  \n",
       "4    205   3408  "
      ]
     },
     "execution_count": 31,
     "metadata": {},
     "output_type": "execute_result"
    }
   ],
   "source": [
    "df2.head()"
   ]
  },
  {
   "cell_type": "code",
   "execution_count": 32,
   "id": "f3382641",
   "metadata": {},
   "outputs": [
    {
     "name": "stdout",
     "output_type": "stream",
     "text": [
      "['imonth', 'iday', 'country', 'region', 'provstate', 'city', 'latitude', 'longitude', 'attacktype1', 'targtype1', 'targsubtype1', 'target1', 'weaptype1', 'weapsubtype1', 'nkill', 'gname']\n",
      "16\n"
     ]
    }
   ],
   "source": [
    "column_names = df2.columns.values.tolist()\n",
    "print(column_names)\n",
    "print(len(column_names))"
   ]
  },
  {
   "cell_type": "markdown",
   "id": "c97be56c",
   "metadata": {},
   "source": [
    "# Baseline(Scikit-Learn) model training and testing on all three datasets"
   ]
  },
  {
   "cell_type": "code",
   "execution_count": 40,
   "id": "7027a64c",
   "metadata": {},
   "outputs": [],
   "source": [
    "from sklearn.naive_bayes import GaussianNB\n",
    "from sklearn.metrics import accuracy_score\n",
    "from sklearn.model_selection import train_test_split\n",
    "X_train, X_test, y_train, y_test = train_test_split(df41[['eventid', 'iyear', 'imonth', 'iday', 'country', 'country_txt', 'region', 'region_txt', 'provstate', 'city', 'latitude', 'longitude', 'vicinity', 'location', 'summary', 'multiple', 'success', 'suicide', 'attacktype1', 'attacktype1_txt', 'attacktype2_txt', 'attacktype3', 'attacktype3_txt', 'targtype1', 'targtype1_txt', 'targsubtype1', 'targsubtype1_txt', 'target1', 'targtype2', 'targtype2_txt', 'targsubtype2', 'targsubtype2_txt','weaptype1', 'weapsubtype1', 'nkill', 'property', 'propextent', 'propextent_txt', 'ransom', 'ransomamt']], df41['gname'], test_size=0.2)\n",
    "\n",
    "GNB = GaussianNB()\n",
    "GNB.fit(X_train, y_train)\n",
    "y_pred = GNB.predict(X_test)\n",
    "acc_df41 = accuracy_score(y_test, y_pred)\n",
    "df41.to_csv(r'C:\\Users\\sourav\\Desktop\\Data Mining Project\\Final File\\preprocessed_GTfile_41.csv', header=False, index=False)"
   ]
  },
  {
   "cell_type": "code",
   "execution_count": 41,
   "id": "4affd913",
   "metadata": {},
   "outputs": [],
   "source": [
    "X_train, X_test, y_train, y_test = train_test_split(df1[['imonth', 'iday', 'country', 'country_txt', 'region', 'region_txt', 'provstate', 'city', 'latitude', 'longitude', 'multiple', 'success', 'suicide', 'attacktype1', 'attacktype1_txt', 'targtype1', 'targtype1_txt', 'targsubtype1', 'targsubtype1_txt', 'target1', 'weaptype1', 'weapsubtype1', 'nkill']], df1['gname'], test_size=0.2)\n",
    "GNB = GaussianNB()\n",
    "GNB.fit(X_train, y_train)\n",
    "y_pred = GNB.predict(X_test)\n",
    "acc_df1 = accuracy_score(y_test, y_pred)\n",
    "df1.to_csv(r'C:\\Users\\sourav\\Desktop\\Data Mining Project\\Final File\\preprocessed_GTfile_24.csv', header=False, index=False)"
   ]
  },
  {
   "cell_type": "code",
   "execution_count": 42,
   "id": "6a4c878d",
   "metadata": {},
   "outputs": [],
   "source": [
    "X_train, X_test, y_train, y_test = train_test_split(df2[['imonth', 'iday', 'country', 'region', 'provstate', 'city', 'latitude', 'longitude', 'attacktype1', 'targtype1', 'targsubtype1', 'target1', 'weaptype1', 'weapsubtype1', 'nkill']], df2['gname'], test_size=0.2)\n",
    "GNB = GaussianNB()\n",
    "GNB.fit(X_train, y_train)\n",
    "y_pred = GNB.predict(X_test)\n",
    "acc_df2 = accuracy_score(y_test, y_pred)\n",
    "df2.to_csv(r'C:\\Users\\sourav\\Desktop\\Data Mining Project\\Final File\\preprocessed_GTfile_16.csv', header=False, index=False)"
   ]
  },
  {
   "cell_type": "markdown",
   "id": "8b95c175",
   "metadata": {},
   "source": [
    "# Self-implemented model training and testing on all three datasets"
   ]
  },
  {
   "cell_type": "code",
   "execution_count": 43,
   "id": "85508ab4",
   "metadata": {},
   "outputs": [
    {
     "name": "stdout",
     "output_type": "stream",
     "text": [
      "Accuracy is:  28.15\n",
      "Accuracy is:  1.25\n",
      "Accuracy is:  28.4\n"
     ]
    }
   ],
   "source": [
    "\"\"\"Self implemented Gaussian Naive Bayes Classifier\"\"\"\n",
    "\n",
    "\n",
    "import math\n",
    "import random\n",
    "import csv\n",
    "global varience\n",
    "\n",
    "# Calculating Mean\n",
    "def mean(num):\n",
    "    return sum(num) / float(len(num))\n",
    " \n",
    "# Calculating Standard Deviation\n",
    "def standard_deviation(num):\n",
    "    global varience\n",
    "    varience = 0\n",
    "    avg = mean(num)\n",
    "    try:\n",
    "       variance = sum([pow(x - avg, 2) for x in num]) / float(len(num) - 1)\n",
    "    except ZeroDivisionError:\n",
    "       varience = sum([pow(x - avg, 2) for x in num]) / 1.0\n",
    "    return math.sqrt(varience)\n",
    " \n",
    " \n",
    "# Categorical data to numberic data\n",
    "def encoding(data):\n",
    "    classes = []\n",
    "    for i in range(len(data)):\n",
    "        if data[i][-1] not in classes:\n",
    "            classes.append(data[i][-1])\n",
    "    for i in range(len(classes)):\n",
    "        for j in range(len(data)):\n",
    "            if data[j][-1] == classes[i]:\n",
    "                data[j][-1] = i\n",
    "    return data           \n",
    "             \n",
    " \n",
    "# Splitting the data\n",
    "def splitting(data, ratio):\n",
    "    train_num = int(len(data) * ratio)\n",
    "    train = []\n",
    "    test = list(data)\n",
    "    while len(train) < train_num:\n",
    "        index = random.randrange(len(test))\n",
    "        # from testing set pop data rows and put it in training set\n",
    "        train.append(test.pop(index))\n",
    "    return train, test\n",
    " \n",
    " \n",
    "# Group the data rows under each class \n",
    "def grouping(data):\n",
    "      dict = {}\n",
    "      for i in range(len(data)):\n",
    "          if (data[i][-1] not in dict):\n",
    "              dict[data[i][-1]] = []\n",
    "          dict[data[i][-1]].append(data[i])\n",
    "      return dict\n",
    " \n",
    " \n",
    "\n",
    " \n",
    "def mean_standardDeviation(data):\n",
    "    info = [(mean(attribute), standard_deviation(attribute)) for attribute in zip(*data)]\n",
    "    del info[-1]\n",
    "    return info\n",
    " \n",
    "# finding mean and standard deviation for each class\n",
    "def class_mean_standardDeviation(data):\n",
    "    info = {}\n",
    "    dict = grouping(data)\n",
    "    for classValue, instances in dict.items():\n",
    "        info[classValue] = mean_standardDeviation(instances)\n",
    "    return info\n",
    " \n",
    " \n",
    "# Calculating gaussian probability density function\n",
    "def gaussian_probability(x, mean, standard_deviation):\n",
    "    try:\n",
    "        expo = math.exp(-(math.pow(x - mean, 2) / (2 * math.pow(standard_deviation, 2))))\n",
    "        return (1 / (math.sqrt(2 * math.pi) * standard_deviation)) * expo\n",
    " \n",
    "    except ZeroDivisionError:\n",
    "        expo = math.exp(0)\n",
    "        return 0\n",
    " \n",
    " \n",
    "# Calculating class probabilities\n",
    "def class_probabilities(info, test):\n",
    "    probabilities = {}\n",
    "    for classValue, classSummaries in info.items():\n",
    "        probabilities[classValue] = 1\n",
    "        for i in range(len(classSummaries)):\n",
    "            mean, std_dev = classSummaries[i]\n",
    "            x = test[i]\n",
    "            probabilities[classValue] *= gaussian_probability(x, mean, std_dev)\n",
    "    return probabilities\n",
    " \n",
    " \n",
    "\n",
    "def predict(info, test):\n",
    "    probabilities = class_probabilities(info, test)\n",
    "    bestLabel, bestProb = None, -1\n",
    "    for classValue, probability in probabilities.items():\n",
    "        if bestLabel is None or probability > bestProb:\n",
    "            bestProb = probability\n",
    "            bestLabel = classValue\n",
    "    return bestLabel\n",
    " \n",
    " \n",
    "# predictions \n",
    "def value_predictions(info, test):\n",
    "    predictions = []\n",
    "    for i in range(len(test)):\n",
    "        result = predict(info, test[i])\n",
    "        predictions.append(result)\n",
    "    return predictions\n",
    " \n",
    "# Accuracy \n",
    "def accuracy(test, predictions):\n",
    "    correct = 0\n",
    "    for i in range(len(test)):\n",
    "        if test[i][-1] == predictions[i]:\n",
    "            correct += 1\n",
    "    return (correct / float(len(test))) * 100.0\n",
    "\n",
    "#---------------------------------------------------------------------------------------------------------------------------------------------------\n",
    "# Training and Testing for dataset with 40 input attributes\n",
    " \n",
    "# Loading the dataset\n",
    "filename = r'preprocessed_GTfile_41.csv'\n",
    "data_set = csv.reader(open(filename, \"rt\"))\n",
    "data_set = list(data_set)\n",
    "data_set = encoding(data_set)\n",
    "for i in range(len(data_set)):\n",
    "    data_set[i] = [float(x) for x in data_set[i]]\n",
    " \n",
    "# 80% is training and 20% is for testing\n",
    "train_ratio = 0.8\n",
    "train_data, test_data = splitting(data_set, train_ratio)\n",
    " \n",
    "# Fitting the model\n",
    "fit = class_mean_standardDeviation(train_data)\n",
    " \n",
    "# Model Testing\n",
    "predictions = value_predictions(fit, test_data)\n",
    "accuracy_df41 = accuracy(test_data, predictions)\n",
    "print(\"Accuracy is: \", accuracy_df41)\n",
    "\n",
    "#----------------------------------------------------------------------------------------------------------------------------------------------------\n",
    "# Training and Testing for dataset with 23 input attributes\n",
    " \n",
    "# Loading the dataset\n",
    "filename = r'preprocessed_GTfile_24.csv'\n",
    "data_set = csv.reader(open(filename, \"rt\"))\n",
    "data_set = list(data_set)\n",
    "data_set = encoding(data_set)\n",
    "for i in range(len(data_set)):\n",
    "    data_set[i] = [float(x) for x in data_set[i]]\n",
    "\n",
    "train_ratio = 0.8\n",
    "train_data, test_data = splitting(data_set, train_ratio)\n",
    " \n",
    "# Fitting the model\n",
    "fit = class_mean_standardDeviation(train_data)\n",
    " \n",
    "# Model testing\n",
    "predictions = value_predictions(fit, test_data)\n",
    "accuracy_df1 = accuracy(test_data, predictions)\n",
    "print(\"Accuracy is: \", accuracy_df1)\n",
    "\n",
    "#-----------------------------------------------------------------------------------------------------------------------------------------------------\n",
    "# Training and Testing for dataset with 15 input attributes\n",
    " \n",
    "# Loading the dataset\n",
    "filename = r'preprocessed_GTfile_16.csv'\n",
    "data_set = csv.reader(open(filename, \"rt\"))\n",
    "data_set = list(data_set)\n",
    "data_set = encoding(data_set)\n",
    "for i in range(len(data_set)):\n",
    "    data_set[i] = [float(x) for x in data_set[i]]\n",
    "\n",
    "train_ratio = 0.8\n",
    "train_data, test_data = splitting(data_set, train_ratio)\n",
    " \n",
    "# Fitting the model\n",
    "fit = class_mean_standardDeviation(train_data)\n",
    " \n",
    "# Model testing\n",
    "predictions = value_predictions(fit, test_data)\n",
    "accuracy_df2 = accuracy(test_data, predictions)\n",
    "print(\"Accuracy is: \", accuracy_df2)"
   ]
  },
  {
   "cell_type": "markdown",
   "id": "98cba8a0",
   "metadata": {},
   "source": [
    "# Accuracy scores"
   ]
  },
  {
   "cell_type": "code",
   "execution_count": 44,
   "id": "e171c09b",
   "metadata": {},
   "outputs": [
    {
     "name": "stdout",
     "output_type": "stream",
     "text": [
      "Accuracy of all three datasets are: \n",
      "\n",
      "Scikit-Learn based model accuracy: \n",
      "\n",
      "Accuracy of dataset with 41 attributes is:  17.65\n",
      "Accuracy of dataset with 24 attributes is:  16.05\n",
      "Accuracy of dataset with 16 attributes is:  17.599999999999998 \n",
      "\n",
      "Self implemented Gaussian Naive Bayes model accuracy: \n",
      "\n",
      "Accuracy of dataset with 41 attributes is:  28.15\n",
      "Accuracy of dataset with 24 attributes is:  1.25\n",
      "Accuracy of dataset with 16 attributes is:  28.4\n"
     ]
    }
   ],
   "source": [
    "acc_df41 = (acc_df41)*100\n",
    "acc_df1 = (acc_df1)*100\n",
    "acc_df2 = (acc_df2)*100\n",
    "\n",
    "print(\"Accuracy of all three datasets are: \\n\")\n",
    "print(\"Scikit-Learn based model accuracy: \\n\")\n",
    "print(\"Accuracy of dataset with 41 attributes is: \", acc_df41)\n",
    "print(\"Accuracy of dataset with 24 attributes is: \", acc_df1)\n",
    "print(\"Accuracy of dataset with 16 attributes is: \", acc_df2, \"\\n\")\n",
    "print(\"Self implemented Gaussian Naive Bayes model accuracy: \\n\")\n",
    "print(\"Accuracy of dataset with 41 attributes is: \", accuracy_df41)\n",
    "print(\"Accuracy of dataset with 24 attributes is: \", accuracy_df1)\n",
    "print(\"Accuracy of dataset with 16 attributes is: \", accuracy_df2)\n"
   ]
  },
  {
   "cell_type": "markdown",
   "id": "7649858f",
   "metadata": {},
   "source": [
    "# Visualization of the performance of both models"
   ]
  },
  {
   "cell_type": "code",
   "execution_count": 45,
   "id": "3e72f513",
   "metadata": {},
   "outputs": [
    {
     "data": {
      "image/png": "[encoded data removed]",
      "text/plain": [
       "<Figure size 432x288 with 1 Axes>"
      ]
     },
     "metadata": {
      "needs_background": "light"
     },
     "output_type": "display_data"
    }
   ],
   "source": [
    "x = [41, 24, 16]\n",
    "y1 = [acc_df41, acc_df1, acc_df2]\n",
    "y2 = [accuracy_df41, accuracy_df1, accuracy_df2]\n",
    "# plot lines\n",
    "plt.plot(x, y1, label = \"sklearn model accuracy\")\n",
    "plt.xlabel('No. of Attributes', fontweight ='bold', fontsize = 12)\n",
    "plt.ylabel('Accuracy in percentage(%)', fontweight ='bold', fontsize = 12)\n",
    "plt.legend()\n",
    "plt.show()"
   ]
  },
  {
   "cell_type": "code",
   "execution_count": 46,
   "id": "5b94cd82",
   "metadata": {},
   "outputs": [
    {
     "data": {
      "image/png": "[encoded data removed]",
      "text/plain": [
       "<Figure size 432x288 with 1 Axes>"
      ]
     },
     "metadata": {
      "needs_background": "light"
     },
     "output_type": "display_data"
    }
   ],
   "source": [
    "plt.plot(x, y2, label = \"self implemented GNB\")\n",
    "plt.xlabel('No. of Attributes', fontweight ='bold', fontsize = 12)\n",
    "plt.ylabel('Accuracy in percentage(%)', fontweight ='bold', fontsize = 12)\n",
    "plt.legend()\n",
    "plt.show()"
   ]
  },
  {
   "cell_type": "code",
   "execution_count": 47,
   "id": "9094dca3",
   "metadata": {},
   "outputs": [
    {
     "data": {
      "image/png": "[encoded data removed]",
      "text/plain": [
       "<Figure size 864x576 with 1 Axes>"
      ]
     },
     "metadata": {
      "needs_background": "light"
     },
     "output_type": "display_data"
    }
   ],
   "source": [
    "barWidth = 0.25\n",
    "fig = plt.subplots(figsize =(12, 8))\n",
    "\n",
    "y1 = [acc_df41, acc_df1, acc_df2]\n",
    "y2 = [accuracy_df41, accuracy_df1, accuracy_df2]\n",
    "br1 = np.arange(len(y1))\n",
    "br2 = [x + barWidth for x in br1]\n",
    "\n",
    "plt.bar(br1, y1, color ='r', width = barWidth,\n",
    "        edgecolor ='grey', label ='sklearn-model')\n",
    "plt.bar(br2, y2, color ='b', width = barWidth,\n",
    "        edgecolor ='grey', label ='self-implemented')\n",
    "\n",
    "plt.xlabel('Gaussian Naive Bayes Models', fontweight ='bold', fontsize = 15)\n",
    "plt.ylabel('Accuracy in percentage(%)', fontweight ='bold', fontsize = 15)\n",
    "plt.xticks([r + barWidth for r in range(len(y1))],\n",
    "        ['Atttribute-Size = 41', 'Atttribute-Size = 24', 'Atttribute-Size = 16'])\n",
    " \n",
    "plt.legend()\n",
    "plt.show()\n"
   ]
  },
  {
   "cell_type": "markdown",
   "id": "90801455",
   "metadata": {},
   "source": [
    "# F-1 Score Calculation on dataset with 16 Attribute Set"
   ]
  },
  {
   "cell_type": "code",
   "execution_count": 62,
   "id": "276b19d8",
   "metadata": {},
   "outputs": [
    {
     "name": "stdout",
     "output_type": "stream",
     "text": [
      "0.17294723363845857\n"
     ]
    }
   ],
   "source": [
    "# Sklearn Model F1-score\n",
    "from sklearn.metrics import f1_score\n",
    "print(f1_score(y_test, y_pred, average='weighted'))\n"
   ]
  },
  {
   "cell_type": "code",
   "execution_count": 63,
   "id": "bcdaffe6",
   "metadata": {},
   "outputs": [
    {
     "name": "stdout",
     "output_type": "stream",
     "text": [
      "0.12563239875389406\n"
     ]
    }
   ],
   "source": [
    "# Self-implemented f1-score\n",
    "a = []\n",
    "a = [test_data[i][-1] for i in range(len(test_data))]    \n",
    "print(f1_score(a, predictions, average='weighted'))"
   ]
  },
  {
   "cell_type": "code",
   "execution_count": null,
   "id": "336b0db3",
   "metadata": {},
   "outputs": [],
   "source": []
  }
 ],
 "metadata": {
  "kernelspec": {
   "display_name": "Python 3 (ipykernel)",
   "language": "python",
   "name": "python3"
  },
  "language_info": {
   "codemirror_mode": {
    "name": "ipython",
    "version": 3
   },
   "file_extension": ".py",
   "mimetype": "text/x-python",
   "name": "python",
   "nbconvert_exporter": "python",
   "pygments_lexer": "ipython3",
   "version": "3.10.3"
  }
 },
 "nbformat": 4,
 "nbformat_minor": 5
}
